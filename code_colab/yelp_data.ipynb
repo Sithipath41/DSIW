{
  "nbformat": 4,
  "nbformat_minor": 0,
  "metadata": {
    "colab": {
      "provenance": []
    },
    "kernelspec": {
      "name": "python3",
      "display_name": "Python 3"
    },
    "language_info": {
      "name": "python"
    }
  },
  "cells": [
    {
      "cell_type": "code",
      "source": [
        "from IPython.display import set_matplotlib_formats\n",
        "set_matplotlib_formats('pdf', 'svg')"
      ],
      "metadata": {
        "colab": {
          "base_uri": "https://localhost:8080/"
        },
        "id": "cZCZeEtImubg",
        "outputId": "b9864eec-68f6-4392-938b-5a8425eba927"
      },
      "execution_count": 33,
      "outputs": [
        {
          "output_type": "stream",
          "name": "stderr",
          "text": [
            "<ipython-input-33-d867fd071f7d>:2: DeprecationWarning: `set_matplotlib_formats` is deprecated since IPython 7.23, directly use `matplotlib_inline.backend_inline.set_matplotlib_formats()`\n",
            "  set_matplotlib_formats('pdf', 'svg')\n"
          ]
        }
      ]
    },
    {
      "cell_type": "code",
      "source": [
        "# IMPORT from NYC_Neighborhood_Mapping.ipynb \n",
        "\n",
        "import urllib.request\n",
        "import json\n",
        "import math\n",
        "\n",
        "url = 'https://data.cityofnewyork.us/resource/xyye-rtrs.json'\n",
        "\n",
        "# Fetch the data from the URL\n",
        "with urllib.request.urlopen(url) as url:\n",
        "    data = json.loads(url.read().decode())\n",
        "\n",
        "# Use the data as needed\n",
        "# print(data)\n",
        "\n",
        "# Build dictionary\n",
        "\n",
        "coordinates_to_neighborhood = {}\n",
        "for neighborhood in data:\n",
        "    if neighborhood['borough'] == \"Manhattan\":\n",
        "        lat = neighborhood['the_geom']['coordinates'][1]\n",
        "        lon = neighborhood['the_geom']['coordinates'][0]\n",
        "        coordinates_to_neighborhood[tuple([lat, lon])] = neighborhood['name']\n",
        "\n",
        "print(coordinates_to_neighborhood)\n",
        "\n",
        "# Get most likely neighborhood\n",
        "\n",
        "def get_neighborhood(lat, lon):\n",
        "    closest_distance = math.inf\n",
        "    closest_coordinates = None\n",
        "    \n",
        "    for key in coordinates_to_neighborhood:\n",
        "        distance = abs(abs(lat) - abs(key[0])) + abs(abs(lon) - abs(key[1]))\n",
        "        \n",
        "        if distance < closest_distance:\n",
        "            closest_distance = distance\n",
        "            closest_coordinates = key\n",
        "    \n",
        "    return coordinates_to_neighborhood[closest_coordinates]\n",
        "\n",
        "# get_neighborhood(40.87655077879968, -73.91065965862988)"
      ],
      "metadata": {
        "colab": {
          "base_uri": "https://localhost:8080/"
        },
        "id": "a5W8AKVuJCxc",
        "outputId": "e6ff2d8c-0f7d-487e-e9ba-189e92acc176"
      },
      "execution_count": 1,
      "outputs": [
        {
          "output_type": "stream",
          "name": "stdout",
          "text": [
            "{(40.87655077879968, -73.91065965862988): 'Marble Hill', (40.715618422314364, -73.99427936255985): 'Chinatown', (40.85190252555309, -73.93690027985242): 'Washington Heights', (40.86768396449919, -73.92121042203905): 'Inwood', (40.82360428481197, -73.94968791883373): 'Hamilton Heights', (40.81693442949784, -73.95738539351888): 'Manhattanville', (40.81597606742418, -73.94321112603912): 'Central Harlem', (40.79224946663037, -73.94418223148531): 'East Harlem', (40.77563857330185, -73.96050763135007): 'Upper East Side', (40.77592984988492, -73.94711784471833): 'Yorkville', (40.76811265828737, -73.95885968813766): 'Lenox Hill', (40.762403730702246, -73.9494705736962): 'Roosevelt Island', (40.7876579985349, -73.9770592363061): 'Upper West Side', (40.773528889421705, -73.9853377700127): 'Lincoln Square', (40.758333686906404, -73.99640768221386): 'Clinton', (40.75469110270627, -73.98166882730311): 'Midtown', (40.74830307725222, -73.97833207924134): 'Murray Hill', (40.74403470674802, -74.0031163347282): 'Chelsea', (40.72693288536132, -73.99991402945909): 'Greenwich Village', (40.72784677727029, -73.98222616506425): 'East Village', (40.71780674892769, -73.98089031999298): 'Lower East Side', (40.72152196744325, -74.01068328559094): 'Tribeca', (40.71932379395911, -73.9973046720808): 'Little Italy', (40.72218384131798, -74.00065666959766): 'Soho', (40.734433935724375, -74.00617998126819): 'West Village', (40.7973070417029, -73.96428617740662): 'Manhattan Valley', (40.80799973816586, -73.96389627905339): 'Morningside Heights', (40.737209832715045, -73.98137594833548): 'Gramercy', (40.71193198394569, -74.01686930508625): 'Battery Park City', (40.70710710727052, -74.01066544521277): 'Financial District', (40.78268256712574, -73.95325646837121): 'Carnegie Hill', (40.72325901885772, -73.98843368023604): 'Noho', (40.715228920462856, -74.00541529873362): 'Civic Center', (40.748509664312245, -73.98871313285254): 'Midtown South', (40.76028033131378, -73.9635561409431): 'Sutton Place', (40.75204236950726, -73.96770824581843): 'Turtle Bay', (40.74691741074023, -73.97121928722272): 'Tudor City', (40.73099955477065, -73.9740517046921): 'Stuyvesant Town', (40.73967304763847, -73.99094710528267): 'Flatiron'}\n"
          ]
        }
      ]
    },
    {
      "cell_type": "code",
      "source": [
        "import requests\n",
        "import sys\n",
        "import urllib, pandas as pd\n",
        "from urllib.error import HTTPError\n",
        "from urllib.parse import quote\n",
        "from urllib.parse import urlencode\n",
        "import matplotlib.pyplot as plt\n",
        "\n",
        "pd.set_option('max_colwidth', 400)\n",
        "pd.describe_option('max_colwidth')"
      ],
      "metadata": {
        "id": "KLNSjzDCG9aH",
        "colab": {
          "base_uri": "https://localhost:8080/"
        },
        "outputId": "b7b11d05-cf0c-4907-a0c3-b8476ee19ad6"
      },
      "execution_count": 2,
      "outputs": [
        {
          "output_type": "stream",
          "name": "stdout",
          "text": [
            "display.max_colwidth : int or None\n",
            "    The maximum width in characters of a column in the repr of\n",
            "    a pandas data structure. When the column overflows, a \"...\"\n",
            "    placeholder is embedded in the output. A 'None' value means unlimited.\n",
            "    [default: 50] [currently: 400]\n"
          ]
        }
      ]
    },
    {
      "cell_type": "code",
      "source": [],
      "metadata": {
        "id": "2EoD2VYqtV1e"
      },
      "execution_count": null,
      "outputs": []
    },
    {
      "cell_type": "markdown",
      "source": [
        "#Fetching data from api.yelp.com"
      ],
      "metadata": {
        "id": "eQJnDwRItWjz"
      }
    },
    {
      "cell_type": "code",
      "source": [
        "API_KEY= 'K834kO9dho-fzMVo_Y_Hd3FIcDSkOgvGE8kNAfCVOFnsxPmI6KwCfxP996vUxM54Yw6gk7s7l7SiuxrrxPVIHBiJCu38lpHYmg-RKXVzVHQ5lgzLo_nDZ_sCevlKZHYx'\n",
        "API_HOST = 'https://api.yelp.com'\n",
        "LIMIT = 50"
      ],
      "metadata": {
        "id": "n-NMDbQf14RF"
      },
      "execution_count": 3,
      "outputs": []
    },
    {
      "cell_type": "code",
      "source": [
        "def request(host, path, api_key, url_params):\n",
        "    url_params = url_params or {}\n",
        "    url = '{0}{1}'.format(host, quote(path.encode('utf8')))\n",
        "    headers = {\n",
        "        'Authorization': 'Bearer %s' % api_key,\n",
        "    }\n",
        "\n",
        "    response = requests.request('GET', url, headers=headers, params=url_params)\n",
        "\n",
        "    return response.json()\n",
        "\n",
        "def search(PATH, api_key, location, offset):\n",
        "    url_params = {\n",
        "        # 'term': term.replace(' ', '+'),\n",
        "        'location': location.replace(' ', '+'),\n",
        "        'offset': offset,\n",
        "        'limit': 50\n",
        "    }\n",
        "    return request(API_HOST, PATH, api_key, url_params=url_params)\n",
        "\n",
        "\n",
        "def getAllCategories(PATH, api_key, locale):\n",
        "  params = {\n",
        "      'locale' : locale\n",
        "  }\n",
        "  return request(API_HOST, PATH, api_key, url_params=params)"
      ],
      "metadata": {
        "id": "vsVSB6kGHRc8"
      },
      "execution_count": 4,
      "outputs": []
    },
    {
      "cell_type": "code",
      "source": [
        "getCateory = '/v3/categories' \n",
        "\n",
        "response = getAllCategories(getCateory, API_KEY, 'en_US')\n",
        "all_categories = response.get('categories')"
      ],
      "metadata": {
        "id": "kgBtnDP9IORg"
      },
      "execution_count": 5,
      "outputs": []
    },
    {
      "cell_type": "code",
      "source": [
        "print(len(all_categories))\n",
        "print(all_categories[:1], end='\\n')"
      ],
      "metadata": {
        "colab": {
          "base_uri": "https://localhost:8080/"
        },
        "id": "0t-0BSKIDNLn",
        "outputId": "ad12b212-3927-4798-c2ab-160fe4d89e77"
      },
      "execution_count": 6,
      "outputs": [
        {
          "output_type": "stream",
          "name": "stdout",
          "text": [
            "1295\n",
            "[{'alias': '3dprinting', 'title': '3D Printing', 'parent_aliases': ['localservices'], 'country_whitelist': [], 'country_blacklist': []}]\n"
          ]
        }
      ]
    },
    {
      "cell_type": "code",
      "source": [
        "# download_csv('categories.csv', all_categories)"
      ],
      "metadata": {
        "id": "d4hSLVwK4ttP"
      },
      "execution_count": 7,
      "outputs": []
    },
    {
      "cell_type": "code",
      "source": [
        "BSEARCH = '/v3/businesses/search'"
      ],
      "metadata": {
        "id": "ePUQV3vz3ECx"
      },
      "execution_count": 8,
      "outputs": []
    },
    {
      "cell_type": "code",
      "source": [
        "def get_all_businesses(location: str): \n",
        "  data = []\n",
        "  for offset in range(0, 1000, 50):\n",
        "    try:\n",
        "        response = search(BSEARCH, API_KEY, location, offset)\n",
        "        print(f'offset at: {offset}')\n",
        "        data += response['businesses']\n",
        "    except HTTPError as error:\n",
        "        sys.exit(\n",
        "            'Encountered HTTP error {0} on {1}:\\n {2}\\nAbort program.'.format(\n",
        "                error.code,\n",
        "                error.url,\n",
        "                error.read(),\n",
        "            )\n",
        "        )\n",
        "  return data"
      ],
      "metadata": {
        "id": "AZwGujAe5bUY"
      },
      "execution_count": 42,
      "outputs": []
    },
    {
      "cell_type": "code",
      "source": [
        "yelp_data = []\n",
        "ids= set()\n",
        "\n",
        "data_keys = {'id' , 'review_count', 'categories', 'rating', 'coordinates', 'transactions'}\n",
        "\n",
        "def format_lat_lon(item): \n",
        "  item['latitude'] = item['coordinates']['latitude']\n",
        "  item['longitude'] = item['coordinates']['longitude']\n",
        "  del item['coordinates']\n",
        "  return item\n",
        "\n",
        "def get_business_based_on_location(locations: list[str]):\n",
        "  for _location in locations:\n",
        "    print(f\"for location tag: {_location}\")   \n",
        "    data = get_all_businesses(_location)\n",
        "    for data_item in data: \n",
        "      if data_item['id'] in ids: \n",
        "        continue\n",
        "      ids.add(data_item['id'])\n",
        "      data_subset = { k: data_item[k] for k in data_item.keys() if k in data_keys}\n",
        "      data_subset = format_lat_lon(data_subset)\n",
        "      yelp_data.append(data_subset) "
      ],
      "metadata": {
        "id": "BjxTW5dH_b60"
      },
      "execution_count": 40,
      "outputs": []
    },
    {
      "cell_type": "code",
      "source": [
        "newyorkcity = ['nyc', 'New York City']\n",
        "get_business_based_on_location(newyorkcity)"
      ],
      "metadata": {
        "id": "U5tf-9HmHs3q"
      },
      "execution_count": null,
      "outputs": []
    },
    {
      "cell_type": "code",
      "source": [
        "print(len(ids))\n",
        "print(len(yelp_data))"
      ],
      "metadata": {
        "colab": {
          "base_uri": "https://localhost:8080/"
        },
        "id": "4nzy3EAtJQZA",
        "outputId": "c28677c1-6193-479f-eacf-bd1c292c4137"
      },
      "execution_count": 12,
      "outputs": [
        {
          "output_type": "stream",
          "name": "stdout",
          "text": [
            "1102\n",
            "1102\n"
          ]
        }
      ]
    },
    {
      "cell_type": "code",
      "source": [
        "neighbourhoods_count = set()\n",
        "for _data in yelp_data: \n",
        "  lat, lon = _data['latitude'], _data['longitude']\n",
        "  n = get_neighborhood(lat, lon)\n",
        "  neighbourhoods_count.add(n)\n",
        "  _data['neighbourhood'] = n\n",
        "\n",
        "print(f' {len(neighbourhoods_count)} Unique neighbourhoods found')"
      ],
      "metadata": {
        "id": "JkFXwvWxJUC9",
        "colab": {
          "base_uri": "https://localhost:8080/"
        },
        "outputId": "ff7e8035-46cc-4bbc-c13c-ce117e503ac6"
      },
      "execution_count": 14,
      "outputs": [
        {
          "output_type": "stream",
          "name": "stdout",
          "text": [
            " 33 Unique neighbourhoods found\n"
          ]
        }
      ]
    },
    {
      "cell_type": "code",
      "source": [
        "yelp_data[0]\n",
        "yelp_data_df = pd.DataFrame(yelp_data)\n",
        "len(yelp_data_df)"
      ],
      "metadata": {
        "id": "hEnnY93EJ7UM"
      },
      "execution_count": null,
      "outputs": []
    },
    {
      "cell_type": "code",
      "source": [
        "types_set = set()\n",
        "for val in yelp_data_df['transactions']:\n",
        "  for i in val:\n",
        "    types_set.add(i)\n",
        "types_set"
      ],
      "metadata": {
        "colab": {
          "base_uri": "https://localhost:8080/"
        },
        "id": "SaE5Oh7xb5Nr",
        "outputId": "e1f91d79-ad74-49e4-a79a-9665a86749a8"
      },
      "execution_count": 16,
      "outputs": [
        {
          "output_type": "execute_result",
          "data": {
            "text/plain": [
              "{'delivery', 'pickup', 'restaurant_reservation'}"
            ]
          },
          "metadata": {},
          "execution_count": 16
        }
      ]
    },
    {
      "cell_type": "code",
      "source": [
        "yelp_data_df.drop(['transactions', 'latitude', 'longitude'], inplace=True, axis=1)\n",
        "yelp_data_df.columns"
      ],
      "metadata": {
        "colab": {
          "base_uri": "https://localhost:8080/"
        },
        "id": "CTPc8VIHLZmu",
        "outputId": "fea97044-b058-4a5a-9115-bb0ffaf0aad6"
      },
      "execution_count": 17,
      "outputs": [
        {
          "output_type": "execute_result",
          "data": {
            "text/plain": [
              "Index(['id', 'review_count', 'categories', 'rating', 'neighbourhood'], dtype='object')"
            ]
          },
          "metadata": {},
          "execution_count": 17
        }
      ]
    },
    {
      "cell_type": "code",
      "source": [
        "##INVALID data checks \n",
        "\n",
        "sample_df = yelp_data_df.copy()\n",
        "invalid = sample_df[sample_df[['rating', 'review_count']].isna().any(axis=1)]\n",
        "invalid"
      ],
      "metadata": {
        "colab": {
          "base_uri": "https://localhost:8080/",
          "height": 50
        },
        "id": "jSLuiRQSBjkI",
        "outputId": "0fea4dc3-7829-4a89-feb6-236decb0db1b"
      },
      "execution_count": 20,
      "outputs": [
        {
          "output_type": "execute_result",
          "data": {
            "text/plain": [
              "Empty DataFrame\n",
              "Columns: [id, review_count, categories, rating, neighbourhood]\n",
              "Index: []"
            ],
            "text/html": [
              "\n",
              "  <div id=\"df-8d7422ea-a4c6-4d54-9ace-7f5b6d8cdde9\">\n",
              "    <div class=\"colab-df-container\">\n",
              "      <div>\n",
              "<style scoped>\n",
              "    .dataframe tbody tr th:only-of-type {\n",
              "        vertical-align: middle;\n",
              "    }\n",
              "\n",
              "    .dataframe tbody tr th {\n",
              "        vertical-align: top;\n",
              "    }\n",
              "\n",
              "    .dataframe thead th {\n",
              "        text-align: right;\n",
              "    }\n",
              "</style>\n",
              "<table border=\"1\" class=\"dataframe\">\n",
              "  <thead>\n",
              "    <tr style=\"text-align: right;\">\n",
              "      <th></th>\n",
              "      <th>id</th>\n",
              "      <th>review_count</th>\n",
              "      <th>categories</th>\n",
              "      <th>rating</th>\n",
              "      <th>neighbourhood</th>\n",
              "    </tr>\n",
              "  </thead>\n",
              "  <tbody>\n",
              "  </tbody>\n",
              "</table>\n",
              "</div>\n",
              "      <button class=\"colab-df-convert\" onclick=\"convertToInteractive('df-8d7422ea-a4c6-4d54-9ace-7f5b6d8cdde9')\"\n",
              "              title=\"Convert this dataframe to an interactive table.\"\n",
              "              style=\"display:none;\">\n",
              "        \n",
              "  <svg xmlns=\"http://www.w3.org/2000/svg\" height=\"24px\"viewBox=\"0 0 24 24\"\n",
              "       width=\"24px\">\n",
              "    <path d=\"M0 0h24v24H0V0z\" fill=\"none\"/>\n",
              "    <path d=\"M18.56 5.44l.94 2.06.94-2.06 2.06-.94-2.06-.94-.94-2.06-.94 2.06-2.06.94zm-11 1L8.5 8.5l.94-2.06 2.06-.94-2.06-.94L8.5 2.5l-.94 2.06-2.06.94zm10 10l.94 2.06.94-2.06 2.06-.94-2.06-.94-.94-2.06-.94 2.06-2.06.94z\"/><path d=\"M17.41 7.96l-1.37-1.37c-.4-.4-.92-.59-1.43-.59-.52 0-1.04.2-1.43.59L10.3 9.45l-7.72 7.72c-.78.78-.78 2.05 0 2.83L4 21.41c.39.39.9.59 1.41.59.51 0 1.02-.2 1.41-.59l7.78-7.78 2.81-2.81c.8-.78.8-2.07 0-2.86zM5.41 20L4 18.59l7.72-7.72 1.47 1.35L5.41 20z\"/>\n",
              "  </svg>\n",
              "      </button>\n",
              "      \n",
              "  <style>\n",
              "    .colab-df-container {\n",
              "      display:flex;\n",
              "      flex-wrap:wrap;\n",
              "      gap: 12px;\n",
              "    }\n",
              "\n",
              "    .colab-df-convert {\n",
              "      background-color: #E8F0FE;\n",
              "      border: none;\n",
              "      border-radius: 50%;\n",
              "      cursor: pointer;\n",
              "      display: none;\n",
              "      fill: #1967D2;\n",
              "      height: 32px;\n",
              "      padding: 0 0 0 0;\n",
              "      width: 32px;\n",
              "    }\n",
              "\n",
              "    .colab-df-convert:hover {\n",
              "      background-color: #E2EBFA;\n",
              "      box-shadow: 0px 1px 2px rgba(60, 64, 67, 0.3), 0px 1px 3px 1px rgba(60, 64, 67, 0.15);\n",
              "      fill: #174EA6;\n",
              "    }\n",
              "\n",
              "    [theme=dark] .colab-df-convert {\n",
              "      background-color: #3B4455;\n",
              "      fill: #D2E3FC;\n",
              "    }\n",
              "\n",
              "    [theme=dark] .colab-df-convert:hover {\n",
              "      background-color: #434B5C;\n",
              "      box-shadow: 0px 1px 3px 1px rgba(0, 0, 0, 0.15);\n",
              "      filter: drop-shadow(0px 1px 2px rgba(0, 0, 0, 0.3));\n",
              "      fill: #FFFFFF;\n",
              "    }\n",
              "  </style>\n",
              "\n",
              "      <script>\n",
              "        const buttonEl =\n",
              "          document.querySelector('#df-8d7422ea-a4c6-4d54-9ace-7f5b6d8cdde9 button.colab-df-convert');\n",
              "        buttonEl.style.display =\n",
              "          google.colab.kernel.accessAllowed ? 'block' : 'none';\n",
              "\n",
              "        async function convertToInteractive(key) {\n",
              "          const element = document.querySelector('#df-8d7422ea-a4c6-4d54-9ace-7f5b6d8cdde9');\n",
              "          const dataTable =\n",
              "            await google.colab.kernel.invokeFunction('convertToInteractive',\n",
              "                                                     [key], {});\n",
              "          if (!dataTable) return;\n",
              "\n",
              "          const docLinkHtml = 'Like what you see? Visit the ' +\n",
              "            '<a target=\"_blank\" href=https://colab.research.google.com/notebooks/data_table.ipynb>data table notebook</a>'\n",
              "            + ' to learn more about interactive tables.';\n",
              "          element.innerHTML = '';\n",
              "          dataTable['output_type'] = 'display_data';\n",
              "          await google.colab.output.renderOutput(dataTable, element);\n",
              "          const docLink = document.createElement('div');\n",
              "          docLink.innerHTML = docLinkHtml;\n",
              "          element.appendChild(docLink);\n",
              "        }\n",
              "      </script>\n",
              "    </div>\n",
              "  </div>\n",
              "  "
            ]
          },
          "metadata": {},
          "execution_count": 20
        }
      ]
    },
    {
      "cell_type": "code",
      "source": [
        "def display_hist(df, title): \n",
        "    df.hist(bins=40)\n",
        "    plt.xlabel(title)\n",
        "    plt.ylabel(\"Count of Business or Services\")\n",
        "    plt.show()\n",
        "\n",
        "display_hist(yelp_data_df['review_count'], 'review_count') \n",
        "display_hist(yelp_data_df['rating'], 'rating') "
      ],
      "metadata": {
        "id": "x4VtBiUDNGEj"
      },
      "execution_count": null,
      "outputs": []
    },
    {
      "cell_type": "markdown",
      "source": [
        "# Calculate Scores"
      ],
      "metadata": {
        "id": "2Eolc_cTH4Tn"
      }
    },
    {
      "cell_type": "code",
      "source": [
        "def calculate_add_scores(dataf): \n",
        "  min, max = dataf['count_of_businesses'].min(), dataf['count_of_businesses'].max() \n",
        "  dataf['normalised_scores'] = round(((dataf['count_of_businesses'] - min) / (max - min)) * 100 , 2)\n",
        "  return dataf"
      ],
      "metadata": {
        "id": "11Y8cki-IZ2m"
      },
      "execution_count": 22,
      "outputs": []
    },
    {
      "cell_type": "code",
      "source": [
        "yelp_data_df['count_of_businesses'] = yelp_data_df.groupby('neighbourhood')['neighbourhood'].transform('size')\n",
        "\n",
        "scores_by_yelp_df = yelp_data_df.groupby('neighbourhood').size().reset_index(name='count_of_businesses')\n",
        "scores_by_yelp_df = calculate_add_scores(scores_by_yelp_df)\n",
        "scores_by_yelp_df"
      ],
      "metadata": {
        "id": "_ouzIYfD_5FU"
      },
      "execution_count": null,
      "outputs": []
    },
    {
      "cell_type": "code",
      "source": [
        "fig, ax = plt.subplots()\n",
        "bars = ax.bar(scores_by_yelp_df['neighbourhood'], scores_by_yelp_df['count_of_businesses'], color='orange')\n",
        "\n",
        "ax.set_xlabel('Neighbourhoods')\n",
        "ax.set_ylabel('Number of Businesses')\n",
        "ax.set_title('Businesses per Neighbourhood from Yelp')\n",
        "ax.set_xticklabels(scores_by_yelp_df['neighbourhood'], rotation='vertical')\n",
        "\n",
        "plt.show()"
      ],
      "metadata": {
        "colab": {
          "base_uri": "https://localhost:8080/",
          "height": 601
        },
        "id": "HC3MKH2po5Kf",
        "outputId": "5829a73f-4e0d-4b3d-ae1a-ce6df5c5f300"
      },
      "execution_count": 68,
      "outputs": [
        {
          "output_type": "stream",
          "name": "stderr",
          "text": [
            "<ipython-input-68-c815f1984337>:7: UserWarning: FixedFormatter should only be used together with FixedLocator\n",
            "  ax.set_xticklabels(scores_by_yelp_df['neighbourhood'], rotation='vertical')\n"
          ]
        },
        {
          "output_type": "display_data",
          "data": {
            "text/plain": [
              "<Figure size 640x480 with 1 Axes>"
            ],
            "image/svg+xml": "<?xml version=\"1.0\" encoding=\"utf-8\" standalone=\"no\"?>\n<!DOCTYPE svg PUBLIC \"-//W3C//DTD SVG 1.1//EN\"\n  \"http://www.w3.org/Graphics/SVG/1.1/DTD/svg11.dtd\">\n<svg xmlns:xlink=\"http://www.w3.org/1999/xlink\" width=\"411.285625pt\" height=\"406.136375pt\" viewBox=\"0 0 411.285625 406.136375\" xmlns=\"http://www.w3.org/2000/svg\" version=\"1.1\">\n <metadata>\n  <rdf:RDF xmlns:dc=\"http://purl.org/dc/elements/1.1/\" xmlns:cc=\"http://creativecommons.org/ns#\" xmlns:rdf=\"http://www.w3.org/1999/02/22-rdf-syntax-ns#\">\n   <cc:Work>\n    <dc:type rdf:resource=\"http://purl.org/dc/dcmitype/StillImage\"/>\n    <dc:date>2023-05-17T03:23:13.997464</dc:date>\n    <dc:format>image/svg+xml</dc:format>\n    <dc:creator>\n     <cc:Agent>\n      <dc:title>Matplotlib v3.7.1, https://matplotlib.org/</dc:title>\n     </cc:Agent>\n    </dc:creator>\n   </cc:Work>\n  </rdf:RDF>\n </metadata>\n <defs>\n  <style type=\"text/css\">*{stroke-linejoin: round; stroke-linecap: butt}</style>\n </defs>\n <g id=\"figure_1\">\n  <g id=\"patch_1\">\n   <path d=\"M 0 406.136375 \nL 411.285625 406.136375 \nL 411.285625 0 \nL 0 0 \nz\n\" style=\"fill: #ffffff\"/>\n  </g>\n  <g id=\"axes_1\">\n   <g id=\"patch_2\">\n    <path d=\"M 46.965625 288.430125 \nL 404.085625 288.430125 \nL 404.085625 22.318125 \nL 46.965625 22.318125 \nz\n\" style=\"fill: #ffffff\"/>\n   </g>\n   <g id=\"patch_3\">\n    <path d=\"M 63.198352 288.430125 \nL 71.116756 288.430125 \nL 71.116756 274.490925 \nL 63.198352 274.490925 \nz\n\" clip-path=\"url(#p73608b0fbd)\" style=\"fill: #ffa500\"/>\n   </g>\n   <g id=\"patch_4\">\n    <path d=\"M 73.096357 288.430125 \nL 81.01476 288.430125 \nL 81.01476 284.628525 \nL 73.096357 284.628525 \nz\n\" clip-path=\"url(#p73608b0fbd)\" style=\"fill: #ffa500\"/>\n   </g>\n   <g id=\"patch_5\">\n    <path d=\"M 82.994361 288.430125 \nL 90.912765 288.430125 \nL 90.912765 255.482925 \nL 82.994361 255.482925 \nz\n\" clip-path=\"url(#p73608b0fbd)\" style=\"fill: #ffa500\"/>\n   </g>\n   <g id=\"patch_6\">\n    <path d=\"M 92.892366 288.430125 \nL 100.810769 288.430125 \nL 100.810769 176.916525 \nL 92.892366 176.916525 \nz\n\" clip-path=\"url(#p73608b0fbd)\" style=\"fill: #ffa500\"/>\n   </g>\n   <g id=\"patch_7\">\n    <path d=\"M 102.79037 288.430125 \nL 110.708774 288.430125 \nL 110.708774 269.422125 \nL 102.79037 269.422125 \nz\n\" clip-path=\"url(#p73608b0fbd)\" style=\"fill: #ffa500\"/>\n   </g>\n   <g id=\"patch_8\">\n    <path d=\"M 112.688374 288.430125 \nL 120.606778 288.430125 \nL 120.606778 251.681325 \nL 112.688374 251.681325 \nz\n\" clip-path=\"url(#p73608b0fbd)\" style=\"fill: #ffa500\"/>\n   </g>\n   <g id=\"patch_9\">\n    <path d=\"M 122.586379 288.430125 \nL 130.504782 288.430125 \nL 130.504782 287.162925 \nL 122.586379 287.162925 \nz\n\" clip-path=\"url(#p73608b0fbd)\" style=\"fill: #ffa500\"/>\n   </g>\n   <g id=\"patch_10\">\n    <path d=\"M 132.484383 288.430125 \nL 140.402787 288.430125 \nL 140.402787 214.932525 \nL 132.484383 214.932525 \nz\n\" clip-path=\"url(#p73608b0fbd)\" style=\"fill: #ffa500\"/>\n   </g>\n   <g id=\"patch_11\">\n    <path d=\"M 142.382388 288.430125 \nL 150.300791 288.430125 \nL 150.300791 233.940525 \nL 142.382388 233.940525 \nz\n\" clip-path=\"url(#p73608b0fbd)\" style=\"fill: #ffa500\"/>\n   </g>\n   <g id=\"patch_12\">\n    <path d=\"M 152.280392 288.430125 \nL 160.198796 288.430125 \nL 160.198796 221.268525 \nL 152.280392 221.268525 \nz\n\" clip-path=\"url(#p73608b0fbd)\" style=\"fill: #ffa500\"/>\n   </g>\n   <g id=\"patch_13\">\n    <path d=\"M 162.178397 288.430125 \nL 170.0968 288.430125 \nL 170.0968 270.689325 \nL 162.178397 270.689325 \nz\n\" clip-path=\"url(#p73608b0fbd)\" style=\"fill: #ffa500\"/>\n   </g>\n   <g id=\"patch_14\">\n    <path d=\"M 172.076401 288.430125 \nL 179.994805 288.430125 \nL 179.994805 206.062125 \nL 172.076401 206.062125 \nz\n\" clip-path=\"url(#p73608b0fbd)\" style=\"fill: #ffa500\"/>\n   </g>\n   <g id=\"patch_15\">\n    <path d=\"M 181.974405 288.430125 \nL 189.892809 288.430125 \nL 189.892809 278.292525 \nL 181.974405 278.292525 \nz\n\" clip-path=\"url(#p73608b0fbd)\" style=\"fill: #ffa500\"/>\n   </g>\n   <g id=\"patch_16\">\n    <path d=\"M 191.87241 288.430125 \nL 199.790813 288.430125 \nL 199.790813 259.284525 \nL 191.87241 259.284525 \nz\n\" clip-path=\"url(#p73608b0fbd)\" style=\"fill: #ffa500\"/>\n   </g>\n   <g id=\"patch_17\">\n    <path d=\"M 201.770414 288.430125 \nL 209.688818 288.430125 \nL 209.688818 236.474925 \nL 201.770414 236.474925 \nz\n\" clip-path=\"url(#p73608b0fbd)\" style=\"fill: #ffa500\"/>\n   </g>\n   <g id=\"patch_18\">\n    <path d=\"M 211.668419 288.430125 \nL 219.586822 288.430125 \nL 219.586822 34.990125 \nL 211.668419 34.990125 \nz\n\" clip-path=\"url(#p73608b0fbd)\" style=\"fill: #ffa500\"/>\n   </g>\n   <g id=\"patch_19\">\n    <path d=\"M 221.566423 288.430125 \nL 229.484827 288.430125 \nL 229.484827 285.895725 \nL 221.566423 285.895725 \nz\n\" clip-path=\"url(#p73608b0fbd)\" style=\"fill: #ffa500\"/>\n   </g>\n   <g id=\"patch_20\">\n    <path d=\"M 231.464428 288.430125 \nL 239.382831 288.430125 \nL 239.382831 287.162925 \nL 231.464428 287.162925 \nz\n\" clip-path=\"url(#p73608b0fbd)\" style=\"fill: #ffa500\"/>\n   </g>\n   <g id=\"patch_21\">\n    <path d=\"M 241.362432 288.430125 \nL 249.280836 288.430125 \nL 249.280836 223.802925 \nL 241.362432 223.802925 \nz\n\" clip-path=\"url(#p73608b0fbd)\" style=\"fill: #ffa500\"/>\n   </g>\n   <g id=\"patch_22\">\n    <path d=\"M 251.260437 288.430125 \nL 259.17884 288.430125 \nL 259.17884 211.130925 \nL 251.260437 211.130925 \nz\n\" clip-path=\"url(#p73608b0fbd)\" style=\"fill: #ffa500\"/>\n   </g>\n   <g id=\"patch_23\">\n    <path d=\"M 261.158441 288.430125 \nL 269.076845 288.430125 \nL 269.076845 271.956525 \nL 261.158441 271.956525 \nz\n\" clip-path=\"url(#p73608b0fbd)\" style=\"fill: #ffa500\"/>\n   </g>\n   <g id=\"patch_24\">\n    <path d=\"M 271.056445 288.430125 \nL 278.974849 288.430125 \nL 278.974849 190.855725 \nL 271.056445 190.855725 \nz\n\" clip-path=\"url(#p73608b0fbd)\" style=\"fill: #ffa500\"/>\n   </g>\n   <g id=\"patch_25\">\n    <path d=\"M 280.95445 288.430125 \nL 288.872853 288.430125 \nL 288.872853 237.742125 \nL 280.95445 237.742125 \nz\n\" clip-path=\"url(#p73608b0fbd)\" style=\"fill: #ffa500\"/>\n   </g>\n   <g id=\"patch_26\">\n    <path d=\"M 290.852454 288.430125 \nL 298.770858 288.430125 \nL 298.770858 268.154925 \nL 290.852454 268.154925 \nz\n\" clip-path=\"url(#p73608b0fbd)\" style=\"fill: #ffa500\"/>\n   </g>\n   <g id=\"patch_27\">\n    <path d=\"M 300.750459 288.430125 \nL 308.668862 288.430125 \nL 308.668862 251.681325 \nL 300.750459 251.681325 \nz\n\" clip-path=\"url(#p73608b0fbd)\" style=\"fill: #ffa500\"/>\n   </g>\n   <g id=\"patch_28\">\n    <path d=\"M 310.648463 288.430125 \nL 318.566867 288.430125 \nL 318.566867 270.689325 \nL 310.648463 270.689325 \nz\n\" clip-path=\"url(#p73608b0fbd)\" style=\"fill: #ffa500\"/>\n   </g>\n   <g id=\"patch_29\">\n    <path d=\"M 320.546468 288.430125 \nL 328.464871 288.430125 \nL 328.464871 274.490925 \nL 320.546468 274.490925 \nz\n\" clip-path=\"url(#p73608b0fbd)\" style=\"fill: #ffa500\"/>\n   </g>\n   <g id=\"patch_30\">\n    <path d=\"M 330.444472 288.430125 \nL 338.362876 288.430125 \nL 338.362876 274.490925 \nL 330.444472 274.490925 \nz\n\" clip-path=\"url(#p73608b0fbd)\" style=\"fill: #ffa500\"/>\n   </g>\n   <g id=\"patch_31\">\n    <path d=\"M 340.342476 288.430125 \nL 348.26088 288.430125 \nL 348.26088 260.551725 \nL 340.342476 260.551725 \nz\n\" clip-path=\"url(#p73608b0fbd)\" style=\"fill: #ffa500\"/>\n   </g>\n   <g id=\"patch_32\">\n    <path d=\"M 350.240481 288.430125 \nL 358.158884 288.430125 \nL 358.158884 283.361325 \nL 350.240481 283.361325 \nz\n\" clip-path=\"url(#p73608b0fbd)\" style=\"fill: #ffa500\"/>\n   </g>\n   <g id=\"patch_33\">\n    <path d=\"M 360.138485 288.430125 \nL 368.056889 288.430125 \nL 368.056889 279.559725 \nL 360.138485 279.559725 \nz\n\" clip-path=\"url(#p73608b0fbd)\" style=\"fill: #ffa500\"/>\n   </g>\n   <g id=\"patch_34\">\n    <path d=\"M 370.03649 288.430125 \nL 377.954893 288.430125 \nL 377.954893 218.734125 \nL 370.03649 218.734125 \nz\n\" clip-path=\"url(#p73608b0fbd)\" style=\"fill: #ffa500\"/>\n   </g>\n   <g id=\"patch_35\">\n    <path d=\"M 379.934494 288.430125 \nL 387.852898 288.430125 \nL 387.852898 275.758125 \nL 379.934494 275.758125 \nz\n\" clip-path=\"url(#p73608b0fbd)\" style=\"fill: #ffa500\"/>\n   </g>\n   <g id=\"matplotlib.axis_1\">\n    <g id=\"xtick_1\">\n     <g id=\"line2d_1\">\n      <defs>\n       <path id=\"madd8fa17ba\" d=\"M 0 0 \nL 0 3.5 \n\" style=\"stroke: #000000; stroke-width: 0.8\"/>\n      </defs>\n      <g>\n       <use xlink:href=\"#madd8fa17ba\" x=\"67.157554\" y=\"288.430125\" style=\"stroke: #000000; stroke-width: 0.8\"/>\n      </g>\n     </g>\n     <g id=\"text_1\">\n      <!-- Battery Park City -->\n      <g transform=\"translate(69.916929 380.00825) rotate(-90) scale(0.1 -0.1)\">\n       <defs>\n        <path id=\"DejaVuSans-42\" d=\"M 1259 2228 \nL 1259 519 \nL 2272 519 \nQ 2781 519 3026 730 \nQ 3272 941 3272 1375 \nQ 3272 1813 3026 2020 \nQ 2781 2228 2272 2228 \nL 1259 2228 \nz\nM 1259 4147 \nL 1259 2741 \nL 2194 2741 \nQ 2656 2741 2882 2914 \nQ 3109 3088 3109 3444 \nQ 3109 3797 2882 3972 \nQ 2656 4147 2194 4147 \nL 1259 4147 \nz\nM 628 4666 \nL 2241 4666 \nQ 2963 4666 3353 4366 \nQ 3744 4066 3744 3513 \nQ 3744 3084 3544 2831 \nQ 3344 2578 2956 2516 \nQ 3422 2416 3680 2098 \nQ 3938 1781 3938 1306 \nQ 3938 681 3513 340 \nQ 3088 0 2303 0 \nL 628 0 \nL 628 4666 \nz\n\" transform=\"scale(0.015625)\"/>\n        <path id=\"DejaVuSans-61\" d=\"M 2194 1759 \nQ 1497 1759 1228 1600 \nQ 959 1441 959 1056 \nQ 959 750 1161 570 \nQ 1363 391 1709 391 \nQ 2188 391 2477 730 \nQ 2766 1069 2766 1631 \nL 2766 1759 \nL 2194 1759 \nz\nM 3341 1997 \nL 3341 0 \nL 2766 0 \nL 2766 531 \nQ 2569 213 2275 61 \nQ 1981 -91 1556 -91 \nQ 1019 -91 701 211 \nQ 384 513 384 1019 \nQ 384 1609 779 1909 \nQ 1175 2209 1959 2209 \nL 2766 2209 \nL 2766 2266 \nQ 2766 2663 2505 2880 \nQ 2244 3097 1772 3097 \nQ 1472 3097 1187 3025 \nQ 903 2953 641 2809 \nL 641 3341 \nQ 956 3463 1253 3523 \nQ 1550 3584 1831 3584 \nQ 2591 3584 2966 3190 \nQ 3341 2797 3341 1997 \nz\n\" transform=\"scale(0.015625)\"/>\n        <path id=\"DejaVuSans-74\" d=\"M 1172 4494 \nL 1172 3500 \nL 2356 3500 \nL 2356 3053 \nL 1172 3053 \nL 1172 1153 \nQ 1172 725 1289 603 \nQ 1406 481 1766 481 \nL 2356 481 \nL 2356 0 \nL 1766 0 \nQ 1100 0 847 248 \nQ 594 497 594 1153 \nL 594 3053 \nL 172 3053 \nL 172 3500 \nL 594 3500 \nL 594 4494 \nL 1172 4494 \nz\n\" transform=\"scale(0.015625)\"/>\n        <path id=\"DejaVuSans-65\" d=\"M 3597 1894 \nL 3597 1613 \nL 953 1613 \nQ 991 1019 1311 708 \nQ 1631 397 2203 397 \nQ 2534 397 2845 478 \nQ 3156 559 3463 722 \nL 3463 178 \nQ 3153 47 2828 -22 \nQ 2503 -91 2169 -91 \nQ 1331 -91 842 396 \nQ 353 884 353 1716 \nQ 353 2575 817 3079 \nQ 1281 3584 2069 3584 \nQ 2775 3584 3186 3129 \nQ 3597 2675 3597 1894 \nz\nM 3022 2063 \nQ 3016 2534 2758 2815 \nQ 2500 3097 2075 3097 \nQ 1594 3097 1305 2825 \nQ 1016 2553 972 2059 \nL 3022 2063 \nz\n\" transform=\"scale(0.015625)\"/>\n        <path id=\"DejaVuSans-72\" d=\"M 2631 2963 \nQ 2534 3019 2420 3045 \nQ 2306 3072 2169 3072 \nQ 1681 3072 1420 2755 \nQ 1159 2438 1159 1844 \nL 1159 0 \nL 581 0 \nL 581 3500 \nL 1159 3500 \nL 1159 2956 \nQ 1341 3275 1631 3429 \nQ 1922 3584 2338 3584 \nQ 2397 3584 2469 3576 \nQ 2541 3569 2628 3553 \nL 2631 2963 \nz\n\" transform=\"scale(0.015625)\"/>\n        <path id=\"DejaVuSans-79\" d=\"M 2059 -325 \nQ 1816 -950 1584 -1140 \nQ 1353 -1331 966 -1331 \nL 506 -1331 \nL 506 -850 \nL 844 -850 \nQ 1081 -850 1212 -737 \nQ 1344 -625 1503 -206 \nL 1606 56 \nL 191 3500 \nL 800 3500 \nL 1894 763 \nL 2988 3500 \nL 3597 3500 \nL 2059 -325 \nz\n\" transform=\"scale(0.015625)\"/>\n        <path id=\"DejaVuSans-20\" transform=\"scale(0.015625)\"/>\n        <path id=\"DejaVuSans-50\" d=\"M 1259 4147 \nL 1259 2394 \nL 2053 2394 \nQ 2494 2394 2734 2622 \nQ 2975 2850 2975 3272 \nQ 2975 3691 2734 3919 \nQ 2494 4147 2053 4147 \nL 1259 4147 \nz\nM 628 4666 \nL 2053 4666 \nQ 2838 4666 3239 4311 \nQ 3641 3956 3641 3272 \nQ 3641 2581 3239 2228 \nQ 2838 1875 2053 1875 \nL 1259 1875 \nL 1259 0 \nL 628 0 \nL 628 4666 \nz\n\" transform=\"scale(0.015625)\"/>\n        <path id=\"DejaVuSans-6b\" d=\"M 581 4863 \nL 1159 4863 \nL 1159 1991 \nL 2875 3500 \nL 3609 3500 \nL 1753 1863 \nL 3688 0 \nL 2938 0 \nL 1159 1709 \nL 1159 0 \nL 581 0 \nL 581 4863 \nz\n\" transform=\"scale(0.015625)\"/>\n        <path id=\"DejaVuSans-43\" d=\"M 4122 4306 \nL 4122 3641 \nQ 3803 3938 3442 4084 \nQ 3081 4231 2675 4231 \nQ 1875 4231 1450 3742 \nQ 1025 3253 1025 2328 \nQ 1025 1406 1450 917 \nQ 1875 428 2675 428 \nQ 3081 428 3442 575 \nQ 3803 722 4122 1019 \nL 4122 359 \nQ 3791 134 3420 21 \nQ 3050 -91 2638 -91 \nQ 1578 -91 968 557 \nQ 359 1206 359 2328 \nQ 359 3453 968 4101 \nQ 1578 4750 2638 4750 \nQ 3056 4750 3426 4639 \nQ 3797 4528 4122 4306 \nz\n\" transform=\"scale(0.015625)\"/>\n        <path id=\"DejaVuSans-69\" d=\"M 603 3500 \nL 1178 3500 \nL 1178 0 \nL 603 0 \nL 603 3500 \nz\nM 603 4863 \nL 1178 4863 \nL 1178 4134 \nL 603 4134 \nL 603 4863 \nz\n\" transform=\"scale(0.015625)\"/>\n       </defs>\n       <use xlink:href=\"#DejaVuSans-42\"/>\n       <use xlink:href=\"#DejaVuSans-61\" x=\"68.603516\"/>\n       <use xlink:href=\"#DejaVuSans-74\" x=\"129.882812\"/>\n       <use xlink:href=\"#DejaVuSans-74\" x=\"169.091797\"/>\n       <use xlink:href=\"#DejaVuSans-65\" x=\"208.300781\"/>\n       <use xlink:href=\"#DejaVuSans-72\" x=\"269.824219\"/>\n       <use xlink:href=\"#DejaVuSans-79\" x=\"310.9375\"/>\n       <use xlink:href=\"#DejaVuSans-20\" x=\"370.117188\"/>\n       <use xlink:href=\"#DejaVuSans-50\" x=\"401.904297\"/>\n       <use xlink:href=\"#DejaVuSans-61\" x=\"457.707031\"/>\n       <use xlink:href=\"#DejaVuSans-72\" x=\"518.986328\"/>\n       <use xlink:href=\"#DejaVuSans-6b\" x=\"560.099609\"/>\n       <use xlink:href=\"#DejaVuSans-20\" x=\"618.009766\"/>\n       <use xlink:href=\"#DejaVuSans-43\" x=\"649.796875\"/>\n       <use xlink:href=\"#DejaVuSans-69\" x=\"719.621094\"/>\n       <use xlink:href=\"#DejaVuSans-74\" x=\"747.404297\"/>\n       <use xlink:href=\"#DejaVuSans-79\" x=\"786.613281\"/>\n      </g>\n     </g>\n    </g>\n    <g id=\"xtick_2\">\n     <g id=\"line2d_2\">\n      <g>\n       <use xlink:href=\"#madd8fa17ba\" x=\"77.055558\" y=\"288.430125\" style=\"stroke: #000000; stroke-width: 0.8\"/>\n      </g>\n     </g>\n     <g id=\"text_2\">\n      <!-- Carnegie Hill -->\n      <g transform=\"translate(79.814933 359.280125) rotate(-90) scale(0.1 -0.1)\">\n       <defs>\n        <path id=\"DejaVuSans-6e\" d=\"M 3513 2113 \nL 3513 0 \nL 2938 0 \nL 2938 2094 \nQ 2938 2591 2744 2837 \nQ 2550 3084 2163 3084 \nQ 1697 3084 1428 2787 \nQ 1159 2491 1159 1978 \nL 1159 0 \nL 581 0 \nL 581 3500 \nL 1159 3500 \nL 1159 2956 \nQ 1366 3272 1645 3428 \nQ 1925 3584 2291 3584 \nQ 2894 3584 3203 3211 \nQ 3513 2838 3513 2113 \nz\n\" transform=\"scale(0.015625)\"/>\n        <path id=\"DejaVuSans-67\" d=\"M 2906 1791 \nQ 2906 2416 2648 2759 \nQ 2391 3103 1925 3103 \nQ 1463 3103 1205 2759 \nQ 947 2416 947 1791 \nQ 947 1169 1205 825 \nQ 1463 481 1925 481 \nQ 2391 481 2648 825 \nQ 2906 1169 2906 1791 \nz\nM 3481 434 \nQ 3481 -459 3084 -895 \nQ 2688 -1331 1869 -1331 \nQ 1566 -1331 1297 -1286 \nQ 1028 -1241 775 -1147 \nL 775 -588 \nQ 1028 -725 1275 -790 \nQ 1522 -856 1778 -856 \nQ 2344 -856 2625 -561 \nQ 2906 -266 2906 331 \nL 2906 616 \nQ 2728 306 2450 153 \nQ 2172 0 1784 0 \nQ 1141 0 747 490 \nQ 353 981 353 1791 \nQ 353 2603 747 3093 \nQ 1141 3584 1784 3584 \nQ 2172 3584 2450 3431 \nQ 2728 3278 2906 2969 \nL 2906 3500 \nL 3481 3500 \nL 3481 434 \nz\n\" transform=\"scale(0.015625)\"/>\n        <path id=\"DejaVuSans-48\" d=\"M 628 4666 \nL 1259 4666 \nL 1259 2753 \nL 3553 2753 \nL 3553 4666 \nL 4184 4666 \nL 4184 0 \nL 3553 0 \nL 3553 2222 \nL 1259 2222 \nL 1259 0 \nL 628 0 \nL 628 4666 \nz\n\" transform=\"scale(0.015625)\"/>\n        <path id=\"DejaVuSans-6c\" d=\"M 603 4863 \nL 1178 4863 \nL 1178 0 \nL 603 0 \nL 603 4863 \nz\n\" transform=\"scale(0.015625)\"/>\n       </defs>\n       <use xlink:href=\"#DejaVuSans-43\"/>\n       <use xlink:href=\"#DejaVuSans-61\" x=\"69.824219\"/>\n       <use xlink:href=\"#DejaVuSans-72\" x=\"131.103516\"/>\n       <use xlink:href=\"#DejaVuSans-6e\" x=\"170.466797\"/>\n       <use xlink:href=\"#DejaVuSans-65\" x=\"233.845703\"/>\n       <use xlink:href=\"#DejaVuSans-67\" x=\"295.369141\"/>\n       <use xlink:href=\"#DejaVuSans-69\" x=\"358.845703\"/>\n       <use xlink:href=\"#DejaVuSans-65\" x=\"386.628906\"/>\n       <use xlink:href=\"#DejaVuSans-20\" x=\"448.152344\"/>\n       <use xlink:href=\"#DejaVuSans-48\" x=\"479.939453\"/>\n       <use xlink:href=\"#DejaVuSans-69\" x=\"555.134766\"/>\n       <use xlink:href=\"#DejaVuSans-6c\" x=\"582.917969\"/>\n       <use xlink:href=\"#DejaVuSans-6c\" x=\"610.701172\"/>\n      </g>\n     </g>\n    </g>\n    <g id=\"xtick_3\">\n     <g id=\"line2d_3\">\n      <g>\n       <use xlink:href=\"#madd8fa17ba\" x=\"86.953563\" y=\"288.430125\" style=\"stroke: #000000; stroke-width: 0.8\"/>\n      </g>\n     </g>\n     <g id=\"text_3\">\n      <!-- Chelsea -->\n      <g transform=\"translate(89.712938 335.172312) rotate(-90) scale(0.1 -0.1)\">\n       <defs>\n        <path id=\"DejaVuSans-68\" d=\"M 3513 2113 \nL 3513 0 \nL 2938 0 \nL 2938 2094 \nQ 2938 2591 2744 2837 \nQ 2550 3084 2163 3084 \nQ 1697 3084 1428 2787 \nQ 1159 2491 1159 1978 \nL 1159 0 \nL 581 0 \nL 581 4863 \nL 1159 4863 \nL 1159 2956 \nQ 1366 3272 1645 3428 \nQ 1925 3584 2291 3584 \nQ 2894 3584 3203 3211 \nQ 3513 2838 3513 2113 \nz\n\" transform=\"scale(0.015625)\"/>\n        <path id=\"DejaVuSans-73\" d=\"M 2834 3397 \nL 2834 2853 \nQ 2591 2978 2328 3040 \nQ 2066 3103 1784 3103 \nQ 1356 3103 1142 2972 \nQ 928 2841 928 2578 \nQ 928 2378 1081 2264 \nQ 1234 2150 1697 2047 \nL 1894 2003 \nQ 2506 1872 2764 1633 \nQ 3022 1394 3022 966 \nQ 3022 478 2636 193 \nQ 2250 -91 1575 -91 \nQ 1294 -91 989 -36 \nQ 684 19 347 128 \nL 347 722 \nQ 666 556 975 473 \nQ 1284 391 1588 391 \nQ 1994 391 2212 530 \nQ 2431 669 2431 922 \nQ 2431 1156 2273 1281 \nQ 2116 1406 1581 1522 \nL 1381 1569 \nQ 847 1681 609 1914 \nQ 372 2147 372 2553 \nQ 372 3047 722 3315 \nQ 1072 3584 1716 3584 \nQ 2034 3584 2315 3537 \nQ 2597 3491 2834 3397 \nz\n\" transform=\"scale(0.015625)\"/>\n       </defs>\n       <use xlink:href=\"#DejaVuSans-43\"/>\n       <use xlink:href=\"#DejaVuSans-68\" x=\"69.824219\"/>\n       <use xlink:href=\"#DejaVuSans-65\" x=\"133.203125\"/>\n       <use xlink:href=\"#DejaVuSans-6c\" x=\"194.726562\"/>\n       <use xlink:href=\"#DejaVuSans-73\" x=\"222.509766\"/>\n       <use xlink:href=\"#DejaVuSans-65\" x=\"274.609375\"/>\n       <use xlink:href=\"#DejaVuSans-61\" x=\"336.132812\"/>\n      </g>\n     </g>\n    </g>\n    <g id=\"xtick_4\">\n     <g id=\"line2d_4\">\n      <g>\n       <use xlink:href=\"#madd8fa17ba\" x=\"96.851567\" y=\"288.430125\" style=\"stroke: #000000; stroke-width: 0.8\"/>\n      </g>\n     </g>\n     <g id=\"text_4\">\n      <!-- Chinatown -->\n      <g transform=\"translate(99.610942 348.548875) rotate(-90) scale(0.1 -0.1)\">\n       <defs>\n        <path id=\"DejaVuSans-6f\" d=\"M 1959 3097 \nQ 1497 3097 1228 2736 \nQ 959 2375 959 1747 \nQ 959 1119 1226 758 \nQ 1494 397 1959 397 \nQ 2419 397 2687 759 \nQ 2956 1122 2956 1747 \nQ 2956 2369 2687 2733 \nQ 2419 3097 1959 3097 \nz\nM 1959 3584 \nQ 2709 3584 3137 3096 \nQ 3566 2609 3566 1747 \nQ 3566 888 3137 398 \nQ 2709 -91 1959 -91 \nQ 1206 -91 779 398 \nQ 353 888 353 1747 \nQ 353 2609 779 3096 \nQ 1206 3584 1959 3584 \nz\n\" transform=\"scale(0.015625)\"/>\n        <path id=\"DejaVuSans-77\" d=\"M 269 3500 \nL 844 3500 \nL 1563 769 \nL 2278 3500 \nL 2956 3500 \nL 3675 769 \nL 4391 3500 \nL 4966 3500 \nL 4050 0 \nL 3372 0 \nL 2619 2869 \nL 1863 0 \nL 1184 0 \nL 269 3500 \nz\n\" transform=\"scale(0.015625)\"/>\n       </defs>\n       <use xlink:href=\"#DejaVuSans-43\"/>\n       <use xlink:href=\"#DejaVuSans-68\" x=\"69.824219\"/>\n       <use xlink:href=\"#DejaVuSans-69\" x=\"133.203125\"/>\n       <use xlink:href=\"#DejaVuSans-6e\" x=\"160.986328\"/>\n       <use xlink:href=\"#DejaVuSans-61\" x=\"224.365234\"/>\n       <use xlink:href=\"#DejaVuSans-74\" x=\"285.644531\"/>\n       <use xlink:href=\"#DejaVuSans-6f\" x=\"324.853516\"/>\n       <use xlink:href=\"#DejaVuSans-77\" x=\"386.035156\"/>\n       <use xlink:href=\"#DejaVuSans-6e\" x=\"467.822266\"/>\n      </g>\n     </g>\n    </g>\n    <g id=\"xtick_5\">\n     <g id=\"line2d_5\">\n      <g>\n       <use xlink:href=\"#madd8fa17ba\" x=\"106.749572\" y=\"288.430125\" style=\"stroke: #000000; stroke-width: 0.8\"/>\n      </g>\n     </g>\n     <g id=\"text_5\">\n      <!-- Civic Center -->\n      <g transform=\"translate(109.508947 356.222312) rotate(-90) scale(0.1 -0.1)\">\n       <defs>\n        <path id=\"DejaVuSans-76\" d=\"M 191 3500 \nL 800 3500 \nL 1894 563 \nL 2988 3500 \nL 3597 3500 \nL 2284 0 \nL 1503 0 \nL 191 3500 \nz\n\" transform=\"scale(0.015625)\"/>\n        <path id=\"DejaVuSans-63\" d=\"M 3122 3366 \nL 3122 2828 \nQ 2878 2963 2633 3030 \nQ 2388 3097 2138 3097 \nQ 1578 3097 1268 2742 \nQ 959 2388 959 1747 \nQ 959 1106 1268 751 \nQ 1578 397 2138 397 \nQ 2388 397 2633 464 \nQ 2878 531 3122 666 \nL 3122 134 \nQ 2881 22 2623 -34 \nQ 2366 -91 2075 -91 \nQ 1284 -91 818 406 \nQ 353 903 353 1747 \nQ 353 2603 823 3093 \nQ 1294 3584 2113 3584 \nQ 2378 3584 2631 3529 \nQ 2884 3475 3122 3366 \nz\n\" transform=\"scale(0.015625)\"/>\n       </defs>\n       <use xlink:href=\"#DejaVuSans-43\"/>\n       <use xlink:href=\"#DejaVuSans-69\" x=\"69.824219\"/>\n       <use xlink:href=\"#DejaVuSans-76\" x=\"97.607422\"/>\n       <use xlink:href=\"#DejaVuSans-69\" x=\"156.787109\"/>\n       <use xlink:href=\"#DejaVuSans-63\" x=\"184.570312\"/>\n       <use xlink:href=\"#DejaVuSans-20\" x=\"239.550781\"/>\n       <use xlink:href=\"#DejaVuSans-43\" x=\"271.337891\"/>\n       <use xlink:href=\"#DejaVuSans-65\" x=\"341.162109\"/>\n       <use xlink:href=\"#DejaVuSans-6e\" x=\"402.685547\"/>\n       <use xlink:href=\"#DejaVuSans-74\" x=\"466.064453\"/>\n       <use xlink:href=\"#DejaVuSans-65\" x=\"505.273438\"/>\n       <use xlink:href=\"#DejaVuSans-72\" x=\"566.796875\"/>\n      </g>\n     </g>\n    </g>\n    <g id=\"xtick_6\">\n     <g id=\"line2d_6\">\n      <g>\n       <use xlink:href=\"#madd8fa17ba\" x=\"116.647576\" y=\"288.430125\" style=\"stroke: #000000; stroke-width: 0.8\"/>\n      </g>\n     </g>\n     <g id=\"text_6\">\n      <!-- Clinton -->\n      <g transform=\"translate(119.406951 330.68325) rotate(-90) scale(0.1 -0.1)\">\n       <use xlink:href=\"#DejaVuSans-43\"/>\n       <use xlink:href=\"#DejaVuSans-6c\" x=\"69.824219\"/>\n       <use xlink:href=\"#DejaVuSans-69\" x=\"97.607422\"/>\n       <use xlink:href=\"#DejaVuSans-6e\" x=\"125.390625\"/>\n       <use xlink:href=\"#DejaVuSans-74\" x=\"188.769531\"/>\n       <use xlink:href=\"#DejaVuSans-6f\" x=\"227.978516\"/>\n       <use xlink:href=\"#DejaVuSans-6e\" x=\"289.160156\"/>\n      </g>\n     </g>\n    </g>\n    <g id=\"xtick_7\">\n     <g id=\"line2d_7\">\n      <g>\n       <use xlink:href=\"#madd8fa17ba\" x=\"126.545581\" y=\"288.430125\" style=\"stroke: #000000; stroke-width: 0.8\"/>\n      </g>\n     </g>\n     <g id=\"text_7\">\n      <!-- East Harlem -->\n      <g transform=\"translate(129.304956 356.616062) rotate(-90) scale(0.1 -0.1)\">\n       <defs>\n        <path id=\"DejaVuSans-45\" d=\"M 628 4666 \nL 3578 4666 \nL 3578 4134 \nL 1259 4134 \nL 1259 2753 \nL 3481 2753 \nL 3481 2222 \nL 1259 2222 \nL 1259 531 \nL 3634 531 \nL 3634 0 \nL 628 0 \nL 628 4666 \nz\n\" transform=\"scale(0.015625)\"/>\n        <path id=\"DejaVuSans-6d\" d=\"M 3328 2828 \nQ 3544 3216 3844 3400 \nQ 4144 3584 4550 3584 \nQ 5097 3584 5394 3201 \nQ 5691 2819 5691 2113 \nL 5691 0 \nL 5113 0 \nL 5113 2094 \nQ 5113 2597 4934 2840 \nQ 4756 3084 4391 3084 \nQ 3944 3084 3684 2787 \nQ 3425 2491 3425 1978 \nL 3425 0 \nL 2847 0 \nL 2847 2094 \nQ 2847 2600 2669 2842 \nQ 2491 3084 2119 3084 \nQ 1678 3084 1418 2786 \nQ 1159 2488 1159 1978 \nL 1159 0 \nL 581 0 \nL 581 3500 \nL 1159 3500 \nL 1159 2956 \nQ 1356 3278 1631 3431 \nQ 1906 3584 2284 3584 \nQ 2666 3584 2933 3390 \nQ 3200 3197 3328 2828 \nz\n\" transform=\"scale(0.015625)\"/>\n       </defs>\n       <use xlink:href=\"#DejaVuSans-45\"/>\n       <use xlink:href=\"#DejaVuSans-61\" x=\"63.183594\"/>\n       <use xlink:href=\"#DejaVuSans-73\" x=\"124.462891\"/>\n       <use xlink:href=\"#DejaVuSans-74\" x=\"176.5625\"/>\n       <use xlink:href=\"#DejaVuSans-20\" x=\"215.771484\"/>\n       <use xlink:href=\"#DejaVuSans-48\" x=\"247.558594\"/>\n       <use xlink:href=\"#DejaVuSans-61\" x=\"322.753906\"/>\n       <use xlink:href=\"#DejaVuSans-72\" x=\"384.033203\"/>\n       <use xlink:href=\"#DejaVuSans-6c\" x=\"425.146484\"/>\n       <use xlink:href=\"#DejaVuSans-65\" x=\"452.929688\"/>\n       <use xlink:href=\"#DejaVuSans-6d\" x=\"514.453125\"/>\n      </g>\n     </g>\n    </g>\n    <g id=\"xtick_8\">\n     <g id=\"line2d_8\">\n      <g>\n       <use xlink:href=\"#madd8fa17ba\" x=\"136.443585\" y=\"288.430125\" style=\"stroke: #000000; stroke-width: 0.8\"/>\n      </g>\n     </g>\n     <g id=\"text_8\">\n      <!-- East Village -->\n      <g transform=\"translate(139.20296 353.7645) rotate(-90) scale(0.1 -0.1)\">\n       <defs>\n        <path id=\"DejaVuSans-56\" d=\"M 1831 0 \nL 50 4666 \nL 709 4666 \nL 2188 738 \nL 3669 4666 \nL 4325 4666 \nL 2547 0 \nL 1831 0 \nz\n\" transform=\"scale(0.015625)\"/>\n       </defs>\n       <use xlink:href=\"#DejaVuSans-45\"/>\n       <use xlink:href=\"#DejaVuSans-61\" x=\"63.183594\"/>\n       <use xlink:href=\"#DejaVuSans-73\" x=\"124.462891\"/>\n       <use xlink:href=\"#DejaVuSans-74\" x=\"176.5625\"/>\n       <use xlink:href=\"#DejaVuSans-20\" x=\"215.771484\"/>\n       <use xlink:href=\"#DejaVuSans-56\" x=\"247.558594\"/>\n       <use xlink:href=\"#DejaVuSans-69\" x=\"313.716797\"/>\n       <use xlink:href=\"#DejaVuSans-6c\" x=\"341.5\"/>\n       <use xlink:href=\"#DejaVuSans-6c\" x=\"369.283203\"/>\n       <use xlink:href=\"#DejaVuSans-61\" x=\"397.066406\"/>\n       <use xlink:href=\"#DejaVuSans-67\" x=\"458.345703\"/>\n       <use xlink:href=\"#DejaVuSans-65\" x=\"521.822266\"/>\n      </g>\n     </g>\n    </g>\n    <g id=\"xtick_9\">\n     <g id=\"line2d_9\">\n      <g>\n       <use xlink:href=\"#madd8fa17ba\" x=\"146.34159\" y=\"288.430125\" style=\"stroke: #000000; stroke-width: 0.8\"/>\n      </g>\n     </g>\n     <g id=\"text_9\">\n      <!-- Financial District -->\n      <g transform=\"translate(149.100965 378.3145) rotate(-90) scale(0.1 -0.1)\">\n       <defs>\n        <path id=\"DejaVuSans-46\" d=\"M 628 4666 \nL 3309 4666 \nL 3309 4134 \nL 1259 4134 \nL 1259 2759 \nL 3109 2759 \nL 3109 2228 \nL 1259 2228 \nL 1259 0 \nL 628 0 \nL 628 4666 \nz\n\" transform=\"scale(0.015625)\"/>\n        <path id=\"DejaVuSans-44\" d=\"M 1259 4147 \nL 1259 519 \nL 2022 519 \nQ 2988 519 3436 956 \nQ 3884 1394 3884 2338 \nQ 3884 3275 3436 3711 \nQ 2988 4147 2022 4147 \nL 1259 4147 \nz\nM 628 4666 \nL 1925 4666 \nQ 3281 4666 3915 4102 \nQ 4550 3538 4550 2338 \nQ 4550 1131 3912 565 \nQ 3275 0 1925 0 \nL 628 0 \nL 628 4666 \nz\n\" transform=\"scale(0.015625)\"/>\n       </defs>\n       <use xlink:href=\"#DejaVuSans-46\"/>\n       <use xlink:href=\"#DejaVuSans-69\" x=\"50.269531\"/>\n       <use xlink:href=\"#DejaVuSans-6e\" x=\"78.052734\"/>\n       <use xlink:href=\"#DejaVuSans-61\" x=\"141.431641\"/>\n       <use xlink:href=\"#DejaVuSans-6e\" x=\"202.710938\"/>\n       <use xlink:href=\"#DejaVuSans-63\" x=\"266.089844\"/>\n       <use xlink:href=\"#DejaVuSans-69\" x=\"321.070312\"/>\n       <use xlink:href=\"#DejaVuSans-61\" x=\"348.853516\"/>\n       <use xlink:href=\"#DejaVuSans-6c\" x=\"410.132812\"/>\n       <use xlink:href=\"#DejaVuSans-20\" x=\"437.916016\"/>\n       <use xlink:href=\"#DejaVuSans-44\" x=\"469.703125\"/>\n       <use xlink:href=\"#DejaVuSans-69\" x=\"546.705078\"/>\n       <use xlink:href=\"#DejaVuSans-73\" x=\"574.488281\"/>\n       <use xlink:href=\"#DejaVuSans-74\" x=\"626.587891\"/>\n       <use xlink:href=\"#DejaVuSans-72\" x=\"665.796875\"/>\n       <use xlink:href=\"#DejaVuSans-69\" x=\"706.910156\"/>\n       <use xlink:href=\"#DejaVuSans-63\" x=\"734.693359\"/>\n       <use xlink:href=\"#DejaVuSans-74\" x=\"789.673828\"/>\n      </g>\n     </g>\n    </g>\n    <g id=\"xtick_10\">\n     <g id=\"line2d_10\">\n      <g>\n       <use xlink:href=\"#madd8fa17ba\" x=\"156.239594\" y=\"288.430125\" style=\"stroke: #000000; stroke-width: 0.8\"/>\n      </g>\n     </g>\n     <g id=\"text_10\">\n      <!-- Flatiron -->\n      <g transform=\"translate(158.998969 333.128562) rotate(-90) scale(0.1 -0.1)\">\n       <use xlink:href=\"#DejaVuSans-46\"/>\n       <use xlink:href=\"#DejaVuSans-6c\" x=\"57.519531\"/>\n       <use xlink:href=\"#DejaVuSans-61\" x=\"85.302734\"/>\n       <use xlink:href=\"#DejaVuSans-74\" x=\"146.582031\"/>\n       <use xlink:href=\"#DejaVuSans-69\" x=\"185.791016\"/>\n       <use xlink:href=\"#DejaVuSans-72\" x=\"213.574219\"/>\n       <use xlink:href=\"#DejaVuSans-6f\" x=\"252.4375\"/>\n       <use xlink:href=\"#DejaVuSans-6e\" x=\"313.619141\"/>\n      </g>\n     </g>\n    </g>\n    <g id=\"xtick_11\">\n     <g id=\"line2d_11\">\n      <g>\n       <use xlink:href=\"#madd8fa17ba\" x=\"166.137598\" y=\"288.430125\" style=\"stroke: #000000; stroke-width: 0.8\"/>\n      </g>\n     </g>\n     <g id=\"text_11\">\n      <!-- Gramercy -->\n      <g transform=\"translate(168.896973 344.6145) rotate(-90) scale(0.1 -0.1)\">\n       <defs>\n        <path id=\"DejaVuSans-47\" d=\"M 3809 666 \nL 3809 1919 \nL 2778 1919 \nL 2778 2438 \nL 4434 2438 \nL 4434 434 \nQ 4069 175 3628 42 \nQ 3188 -91 2688 -91 \nQ 1594 -91 976 548 \nQ 359 1188 359 2328 \nQ 359 3472 976 4111 \nQ 1594 4750 2688 4750 \nQ 3144 4750 3555 4637 \nQ 3966 4525 4313 4306 \nL 4313 3634 \nQ 3963 3931 3569 4081 \nQ 3175 4231 2741 4231 \nQ 1884 4231 1454 3753 \nQ 1025 3275 1025 2328 \nQ 1025 1384 1454 906 \nQ 1884 428 2741 428 \nQ 3075 428 3337 486 \nQ 3600 544 3809 666 \nz\n\" transform=\"scale(0.015625)\"/>\n       </defs>\n       <use xlink:href=\"#DejaVuSans-47\"/>\n       <use xlink:href=\"#DejaVuSans-72\" x=\"77.490234\"/>\n       <use xlink:href=\"#DejaVuSans-61\" x=\"118.603516\"/>\n       <use xlink:href=\"#DejaVuSans-6d\" x=\"179.882812\"/>\n       <use xlink:href=\"#DejaVuSans-65\" x=\"277.294922\"/>\n       <use xlink:href=\"#DejaVuSans-72\" x=\"338.818359\"/>\n       <use xlink:href=\"#DejaVuSans-63\" x=\"377.681641\"/>\n       <use xlink:href=\"#DejaVuSans-79\" x=\"432.662109\"/>\n      </g>\n     </g>\n    </g>\n    <g id=\"xtick_12\">\n     <g id=\"line2d_12\">\n      <g>\n       <use xlink:href=\"#madd8fa17ba\" x=\"176.035603\" y=\"288.430125\" style=\"stroke: #000000; stroke-width: 0.8\"/>\n      </g>\n     </g>\n     <g id=\"text_12\">\n      <!-- Greenwich Village -->\n      <g transform=\"translate(178.794978 385.25825) rotate(-90) scale(0.1 -0.1)\">\n       <use xlink:href=\"#DejaVuSans-47\"/>\n       <use xlink:href=\"#DejaVuSans-72\" x=\"77.490234\"/>\n       <use xlink:href=\"#DejaVuSans-65\" x=\"116.353516\"/>\n       <use xlink:href=\"#DejaVuSans-65\" x=\"177.876953\"/>\n       <use xlink:href=\"#DejaVuSans-6e\" x=\"239.400391\"/>\n       <use xlink:href=\"#DejaVuSans-77\" x=\"302.779297\"/>\n       <use xlink:href=\"#DejaVuSans-69\" x=\"384.566406\"/>\n       <use xlink:href=\"#DejaVuSans-63\" x=\"412.349609\"/>\n       <use xlink:href=\"#DejaVuSans-68\" x=\"467.330078\"/>\n       <use xlink:href=\"#DejaVuSans-20\" x=\"530.708984\"/>\n       <use xlink:href=\"#DejaVuSans-56\" x=\"562.496094\"/>\n       <use xlink:href=\"#DejaVuSans-69\" x=\"628.654297\"/>\n       <use xlink:href=\"#DejaVuSans-6c\" x=\"656.4375\"/>\n       <use xlink:href=\"#DejaVuSans-6c\" x=\"684.220703\"/>\n       <use xlink:href=\"#DejaVuSans-61\" x=\"712.003906\"/>\n       <use xlink:href=\"#DejaVuSans-67\" x=\"773.283203\"/>\n       <use xlink:href=\"#DejaVuSans-65\" x=\"836.759766\"/>\n      </g>\n     </g>\n    </g>\n    <g id=\"xtick_13\">\n     <g id=\"line2d_13\">\n      <g>\n       <use xlink:href=\"#madd8fa17ba\" x=\"185.933607\" y=\"288.430125\" style=\"stroke: #000000; stroke-width: 0.8\"/>\n      </g>\n     </g>\n     <g id=\"text_13\">\n      <!-- Lenox Hill -->\n      <g transform=\"translate(188.692982 344.075437) rotate(-90) scale(0.1 -0.1)\">\n       <defs>\n        <path id=\"DejaVuSans-4c\" d=\"M 628 4666 \nL 1259 4666 \nL 1259 531 \nL 3531 531 \nL 3531 0 \nL 628 0 \nL 628 4666 \nz\n\" transform=\"scale(0.015625)\"/>\n        <path id=\"DejaVuSans-78\" d=\"M 3513 3500 \nL 2247 1797 \nL 3578 0 \nL 2900 0 \nL 1881 1375 \nL 863 0 \nL 184 0 \nL 1544 1831 \nL 300 3500 \nL 978 3500 \nL 1906 2253 \nL 2834 3500 \nL 3513 3500 \nz\n\" transform=\"scale(0.015625)\"/>\n       </defs>\n       <use xlink:href=\"#DejaVuSans-4c\"/>\n       <use xlink:href=\"#DejaVuSans-65\" x=\"53.962891\"/>\n       <use xlink:href=\"#DejaVuSans-6e\" x=\"115.486328\"/>\n       <use xlink:href=\"#DejaVuSans-6f\" x=\"178.865234\"/>\n       <use xlink:href=\"#DejaVuSans-78\" x=\"236.921875\"/>\n       <use xlink:href=\"#DejaVuSans-20\" x=\"296.101562\"/>\n       <use xlink:href=\"#DejaVuSans-48\" x=\"327.888672\"/>\n       <use xlink:href=\"#DejaVuSans-69\" x=\"403.083984\"/>\n       <use xlink:href=\"#DejaVuSans-6c\" x=\"430.867188\"/>\n       <use xlink:href=\"#DejaVuSans-6c\" x=\"458.650391\"/>\n      </g>\n     </g>\n    </g>\n    <g id=\"xtick_14\">\n     <g id=\"line2d_14\">\n      <g>\n       <use xlink:href=\"#madd8fa17ba\" x=\"195.831612\" y=\"288.430125\" style=\"stroke: #000000; stroke-width: 0.8\"/>\n      </g>\n     </g>\n     <g id=\"text_14\">\n      <!-- Lincoln Square -->\n      <g transform=\"translate(198.590987 369.230125) rotate(-90) scale(0.1 -0.1)\">\n       <defs>\n        <path id=\"DejaVuSans-53\" d=\"M 3425 4513 \nL 3425 3897 \nQ 3066 4069 2747 4153 \nQ 2428 4238 2131 4238 \nQ 1616 4238 1336 4038 \nQ 1056 3838 1056 3469 \nQ 1056 3159 1242 3001 \nQ 1428 2844 1947 2747 \nL 2328 2669 \nQ 3034 2534 3370 2195 \nQ 3706 1856 3706 1288 \nQ 3706 609 3251 259 \nQ 2797 -91 1919 -91 \nQ 1588 -91 1214 -16 \nQ 841 59 441 206 \nL 441 856 \nQ 825 641 1194 531 \nQ 1563 422 1919 422 \nQ 2459 422 2753 634 \nQ 3047 847 3047 1241 \nQ 3047 1584 2836 1778 \nQ 2625 1972 2144 2069 \nL 1759 2144 \nQ 1053 2284 737 2584 \nQ 422 2884 422 3419 \nQ 422 4038 858 4394 \nQ 1294 4750 2059 4750 \nQ 2388 4750 2728 4690 \nQ 3069 4631 3425 4513 \nz\n\" transform=\"scale(0.015625)\"/>\n        <path id=\"DejaVuSans-71\" d=\"M 947 1747 \nQ 947 1113 1208 752 \nQ 1469 391 1925 391 \nQ 2381 391 2643 752 \nQ 2906 1113 2906 1747 \nQ 2906 2381 2643 2742 \nQ 2381 3103 1925 3103 \nQ 1469 3103 1208 2742 \nQ 947 2381 947 1747 \nz\nM 2906 525 \nQ 2725 213 2448 61 \nQ 2172 -91 1784 -91 \nQ 1150 -91 751 415 \nQ 353 922 353 1747 \nQ 353 2572 751 3078 \nQ 1150 3584 1784 3584 \nQ 2172 3584 2448 3432 \nQ 2725 3281 2906 2969 \nL 2906 3500 \nL 3481 3500 \nL 3481 -1331 \nL 2906 -1331 \nL 2906 525 \nz\n\" transform=\"scale(0.015625)\"/>\n        <path id=\"DejaVuSans-75\" d=\"M 544 1381 \nL 544 3500 \nL 1119 3500 \nL 1119 1403 \nQ 1119 906 1312 657 \nQ 1506 409 1894 409 \nQ 2359 409 2629 706 \nQ 2900 1003 2900 1516 \nL 2900 3500 \nL 3475 3500 \nL 3475 0 \nL 2900 0 \nL 2900 538 \nQ 2691 219 2414 64 \nQ 2138 -91 1772 -91 \nQ 1169 -91 856 284 \nQ 544 659 544 1381 \nz\nM 1991 3584 \nL 1991 3584 \nz\n\" transform=\"scale(0.015625)\"/>\n       </defs>\n       <use xlink:href=\"#DejaVuSans-4c\"/>\n       <use xlink:href=\"#DejaVuSans-69\" x=\"55.712891\"/>\n       <use xlink:href=\"#DejaVuSans-6e\" x=\"83.496094\"/>\n       <use xlink:href=\"#DejaVuSans-63\" x=\"146.875\"/>\n       <use xlink:href=\"#DejaVuSans-6f\" x=\"201.855469\"/>\n       <use xlink:href=\"#DejaVuSans-6c\" x=\"263.037109\"/>\n       <use xlink:href=\"#DejaVuSans-6e\" x=\"290.820312\"/>\n       <use xlink:href=\"#DejaVuSans-20\" x=\"354.199219\"/>\n       <use xlink:href=\"#DejaVuSans-53\" x=\"385.986328\"/>\n       <use xlink:href=\"#DejaVuSans-71\" x=\"449.462891\"/>\n       <use xlink:href=\"#DejaVuSans-75\" x=\"512.939453\"/>\n       <use xlink:href=\"#DejaVuSans-61\" x=\"576.318359\"/>\n       <use xlink:href=\"#DejaVuSans-72\" x=\"637.597656\"/>\n       <use xlink:href=\"#DejaVuSans-65\" x=\"676.460938\"/>\n      </g>\n     </g>\n    </g>\n    <g id=\"xtick_15\">\n     <g id=\"line2d_15\">\n      <g>\n       <use xlink:href=\"#madd8fa17ba\" x=\"205.729616\" y=\"288.430125\" style=\"stroke: #000000; stroke-width: 0.8\"/>\n      </g>\n     </g>\n     <g id=\"text_15\">\n      <!-- Little Italy -->\n      <g transform=\"translate(208.488991 345.425437) rotate(-90) scale(0.1 -0.1)\">\n       <defs>\n        <path id=\"DejaVuSans-49\" d=\"M 628 4666 \nL 1259 4666 \nL 1259 0 \nL 628 0 \nL 628 4666 \nz\n\" transform=\"scale(0.015625)\"/>\n       </defs>\n       <use xlink:href=\"#DejaVuSans-4c\"/>\n       <use xlink:href=\"#DejaVuSans-69\" x=\"55.712891\"/>\n       <use xlink:href=\"#DejaVuSans-74\" x=\"83.496094\"/>\n       <use xlink:href=\"#DejaVuSans-74\" x=\"122.705078\"/>\n       <use xlink:href=\"#DejaVuSans-6c\" x=\"161.914062\"/>\n       <use xlink:href=\"#DejaVuSans-65\" x=\"189.697266\"/>\n       <use xlink:href=\"#DejaVuSans-20\" x=\"251.220703\"/>\n       <use xlink:href=\"#DejaVuSans-49\" x=\"283.007812\"/>\n       <use xlink:href=\"#DejaVuSans-74\" x=\"312.5\"/>\n       <use xlink:href=\"#DejaVuSans-61\" x=\"351.708984\"/>\n       <use xlink:href=\"#DejaVuSans-6c\" x=\"412.988281\"/>\n       <use xlink:href=\"#DejaVuSans-79\" x=\"440.771484\"/>\n      </g>\n     </g>\n    </g>\n    <g id=\"xtick_16\">\n     <g id=\"line2d_16\">\n      <g>\n       <use xlink:href=\"#madd8fa17ba\" x=\"215.627621\" y=\"288.430125\" style=\"stroke: #000000; stroke-width: 0.8\"/>\n      </g>\n     </g>\n     <g id=\"text_16\">\n      <!-- Lower East Side -->\n      <g transform=\"translate(218.386996 374.948875) rotate(-90) scale(0.1 -0.1)\">\n       <defs>\n        <path id=\"DejaVuSans-64\" d=\"M 2906 2969 \nL 2906 4863 \nL 3481 4863 \nL 3481 0 \nL 2906 0 \nL 2906 525 \nQ 2725 213 2448 61 \nQ 2172 -91 1784 -91 \nQ 1150 -91 751 415 \nQ 353 922 353 1747 \nQ 353 2572 751 3078 \nQ 1150 3584 1784 3584 \nQ 2172 3584 2448 3432 \nQ 2725 3281 2906 2969 \nz\nM 947 1747 \nQ 947 1113 1208 752 \nQ 1469 391 1925 391 \nQ 2381 391 2643 752 \nQ 2906 1113 2906 1747 \nQ 2906 2381 2643 2742 \nQ 2381 3103 1925 3103 \nQ 1469 3103 1208 2742 \nQ 947 2381 947 1747 \nz\n\" transform=\"scale(0.015625)\"/>\n       </defs>\n       <use xlink:href=\"#DejaVuSans-4c\"/>\n       <use xlink:href=\"#DejaVuSans-6f\" x=\"53.962891\"/>\n       <use xlink:href=\"#DejaVuSans-77\" x=\"115.144531\"/>\n       <use xlink:href=\"#DejaVuSans-65\" x=\"196.931641\"/>\n       <use xlink:href=\"#DejaVuSans-72\" x=\"258.455078\"/>\n       <use xlink:href=\"#DejaVuSans-20\" x=\"299.568359\"/>\n       <use xlink:href=\"#DejaVuSans-45\" x=\"331.355469\"/>\n       <use xlink:href=\"#DejaVuSans-61\" x=\"394.539062\"/>\n       <use xlink:href=\"#DejaVuSans-73\" x=\"455.818359\"/>\n       <use xlink:href=\"#DejaVuSans-74\" x=\"507.917969\"/>\n       <use xlink:href=\"#DejaVuSans-20\" x=\"547.126953\"/>\n       <use xlink:href=\"#DejaVuSans-53\" x=\"578.914062\"/>\n       <use xlink:href=\"#DejaVuSans-69\" x=\"642.390625\"/>\n       <use xlink:href=\"#DejaVuSans-64\" x=\"670.173828\"/>\n       <use xlink:href=\"#DejaVuSans-65\" x=\"733.650391\"/>\n      </g>\n     </g>\n    </g>\n    <g id=\"xtick_17\">\n     <g id=\"line2d_17\">\n      <g>\n       <use xlink:href=\"#madd8fa17ba\" x=\"225.525625\" y=\"288.430125\" style=\"stroke: #000000; stroke-width: 0.8\"/>\n      </g>\n     </g>\n     <g id=\"text_17\">\n      <!-- Manhattan Valley -->\n      <g transform=\"translate(228.285 382.29575) rotate(-90) scale(0.1 -0.1)\">\n       <defs>\n        <path id=\"DejaVuSans-4d\" d=\"M 628 4666 \nL 1569 4666 \nL 2759 1491 \nL 3956 4666 \nL 4897 4666 \nL 4897 0 \nL 4281 0 \nL 4281 4097 \nL 3078 897 \nL 2444 897 \nL 1241 4097 \nL 1241 0 \nL 628 0 \nL 628 4666 \nz\n\" transform=\"scale(0.015625)\"/>\n       </defs>\n       <use xlink:href=\"#DejaVuSans-4d\"/>\n       <use xlink:href=\"#DejaVuSans-61\" x=\"86.279297\"/>\n       <use xlink:href=\"#DejaVuSans-6e\" x=\"147.558594\"/>\n       <use xlink:href=\"#DejaVuSans-68\" x=\"210.9375\"/>\n       <use xlink:href=\"#DejaVuSans-61\" x=\"274.316406\"/>\n       <use xlink:href=\"#DejaVuSans-74\" x=\"335.595703\"/>\n       <use xlink:href=\"#DejaVuSans-74\" x=\"374.804688\"/>\n       <use xlink:href=\"#DejaVuSans-61\" x=\"414.013672\"/>\n       <use xlink:href=\"#DejaVuSans-6e\" x=\"475.292969\"/>\n       <use xlink:href=\"#DejaVuSans-20\" x=\"538.671875\"/>\n       <use xlink:href=\"#DejaVuSans-56\" x=\"570.458984\"/>\n       <use xlink:href=\"#DejaVuSans-61\" x=\"631.117188\"/>\n       <use xlink:href=\"#DejaVuSans-6c\" x=\"692.396484\"/>\n       <use xlink:href=\"#DejaVuSans-6c\" x=\"720.179688\"/>\n       <use xlink:href=\"#DejaVuSans-65\" x=\"747.962891\"/>\n       <use xlink:href=\"#DejaVuSans-79\" x=\"809.486328\"/>\n      </g>\n     </g>\n    </g>\n    <g id=\"xtick_18\">\n     <g id=\"line2d_18\">\n      <g>\n       <use xlink:href=\"#madd8fa17ba\" x=\"235.423629\" y=\"288.430125\" style=\"stroke: #000000; stroke-width: 0.8\"/>\n      </g>\n     </g>\n     <g id=\"text_18\">\n      <!-- Manhattanville -->\n      <g transform=\"translate(238.183004 369.702) rotate(-90) scale(0.1 -0.1)\">\n       <use xlink:href=\"#DejaVuSans-4d\"/>\n       <use xlink:href=\"#DejaVuSans-61\" x=\"86.279297\"/>\n       <use xlink:href=\"#DejaVuSans-6e\" x=\"147.558594\"/>\n       <use xlink:href=\"#DejaVuSans-68\" x=\"210.9375\"/>\n       <use xlink:href=\"#DejaVuSans-61\" x=\"274.316406\"/>\n       <use xlink:href=\"#DejaVuSans-74\" x=\"335.595703\"/>\n       <use xlink:href=\"#DejaVuSans-74\" x=\"374.804688\"/>\n       <use xlink:href=\"#DejaVuSans-61\" x=\"414.013672\"/>\n       <use xlink:href=\"#DejaVuSans-6e\" x=\"475.292969\"/>\n       <use xlink:href=\"#DejaVuSans-76\" x=\"538.671875\"/>\n       <use xlink:href=\"#DejaVuSans-69\" x=\"597.851562\"/>\n       <use xlink:href=\"#DejaVuSans-6c\" x=\"625.634766\"/>\n       <use xlink:href=\"#DejaVuSans-6c\" x=\"653.417969\"/>\n       <use xlink:href=\"#DejaVuSans-65\" x=\"681.201172\"/>\n      </g>\n     </g>\n    </g>\n    <g id=\"xtick_19\">\n     <g id=\"line2d_19\">\n      <g>\n       <use xlink:href=\"#madd8fa17ba\" x=\"245.321634\" y=\"288.430125\" style=\"stroke: #000000; stroke-width: 0.8\"/>\n      </g>\n     </g>\n     <g id=\"text_19\">\n      <!-- Midtown -->\n      <g transform=\"translate(248.081009 337.7395) rotate(-90) scale(0.1 -0.1)\">\n       <use xlink:href=\"#DejaVuSans-4d\"/>\n       <use xlink:href=\"#DejaVuSans-69\" x=\"86.279297\"/>\n       <use xlink:href=\"#DejaVuSans-64\" x=\"114.0625\"/>\n       <use xlink:href=\"#DejaVuSans-74\" x=\"177.539062\"/>\n       <use xlink:href=\"#DejaVuSans-6f\" x=\"216.748047\"/>\n       <use xlink:href=\"#DejaVuSans-77\" x=\"277.929688\"/>\n       <use xlink:href=\"#DejaVuSans-6e\" x=\"359.716797\"/>\n      </g>\n     </g>\n    </g>\n    <g id=\"xtick_20\">\n     <g id=\"line2d_20\">\n      <g>\n       <use xlink:href=\"#madd8fa17ba\" x=\"255.219638\" y=\"288.430125\" style=\"stroke: #000000; stroke-width: 0.8\"/>\n      </g>\n     </g>\n     <g id=\"text_20\">\n      <!-- Midtown South -->\n      <g transform=\"translate(257.979013 369.980125) rotate(-90) scale(0.1 -0.1)\">\n       <use xlink:href=\"#DejaVuSans-4d\"/>\n       <use xlink:href=\"#DejaVuSans-69\" x=\"86.279297\"/>\n       <use xlink:href=\"#DejaVuSans-64\" x=\"114.0625\"/>\n       <use xlink:href=\"#DejaVuSans-74\" x=\"177.539062\"/>\n       <use xlink:href=\"#DejaVuSans-6f\" x=\"216.748047\"/>\n       <use xlink:href=\"#DejaVuSans-77\" x=\"277.929688\"/>\n       <use xlink:href=\"#DejaVuSans-6e\" x=\"359.716797\"/>\n       <use xlink:href=\"#DejaVuSans-20\" x=\"423.095703\"/>\n       <use xlink:href=\"#DejaVuSans-53\" x=\"454.882812\"/>\n       <use xlink:href=\"#DejaVuSans-6f\" x=\"518.359375\"/>\n       <use xlink:href=\"#DejaVuSans-75\" x=\"579.541016\"/>\n       <use xlink:href=\"#DejaVuSans-74\" x=\"642.919922\"/>\n       <use xlink:href=\"#DejaVuSans-68\" x=\"682.128906\"/>\n      </g>\n     </g>\n    </g>\n    <g id=\"xtick_21\">\n     <g id=\"line2d_21\">\n      <g>\n       <use xlink:href=\"#madd8fa17ba\" x=\"265.117643\" y=\"288.430125\" style=\"stroke: #000000; stroke-width: 0.8\"/>\n      </g>\n     </g>\n     <g id=\"text_21\">\n      <!-- Murray Hill -->\n      <g transform=\"translate(267.877018 349.522312) rotate(-90) scale(0.1 -0.1)\">\n       <use xlink:href=\"#DejaVuSans-4d\"/>\n       <use xlink:href=\"#DejaVuSans-75\" x=\"86.279297\"/>\n       <use xlink:href=\"#DejaVuSans-72\" x=\"149.658203\"/>\n       <use xlink:href=\"#DejaVuSans-72\" x=\"189.021484\"/>\n       <use xlink:href=\"#DejaVuSans-61\" x=\"230.134766\"/>\n       <use xlink:href=\"#DejaVuSans-79\" x=\"291.414062\"/>\n       <use xlink:href=\"#DejaVuSans-20\" x=\"350.59375\"/>\n       <use xlink:href=\"#DejaVuSans-48\" x=\"382.380859\"/>\n       <use xlink:href=\"#DejaVuSans-69\" x=\"457.576172\"/>\n       <use xlink:href=\"#DejaVuSans-6c\" x=\"485.359375\"/>\n       <use xlink:href=\"#DejaVuSans-6c\" x=\"513.142578\"/>\n      </g>\n     </g>\n    </g>\n    <g id=\"xtick_22\">\n     <g id=\"line2d_22\">\n      <g>\n       <use xlink:href=\"#madd8fa17ba\" x=\"275.015647\" y=\"288.430125\" style=\"stroke: #000000; stroke-width: 0.8\"/>\n      </g>\n     </g>\n     <g id=\"text_22\">\n      <!-- Noho -->\n      <g transform=\"translate(277.775022 321.486375) rotate(-90) scale(0.1 -0.1)\">\n       <defs>\n        <path id=\"DejaVuSans-4e\" d=\"M 628 4666 \nL 1478 4666 \nL 3547 763 \nL 3547 4666 \nL 4159 4666 \nL 4159 0 \nL 3309 0 \nL 1241 3903 \nL 1241 0 \nL 628 0 \nL 628 4666 \nz\n\" transform=\"scale(0.015625)\"/>\n       </defs>\n       <use xlink:href=\"#DejaVuSans-4e\"/>\n       <use xlink:href=\"#DejaVuSans-6f\" x=\"74.804688\"/>\n       <use xlink:href=\"#DejaVuSans-68\" x=\"135.986328\"/>\n       <use xlink:href=\"#DejaVuSans-6f\" x=\"199.365234\"/>\n      </g>\n     </g>\n    </g>\n    <g id=\"xtick_23\">\n     <g id=\"line2d_23\">\n      <g>\n       <use xlink:href=\"#madd8fa17ba\" x=\"284.913652\" y=\"288.430125\" style=\"stroke: #000000; stroke-width: 0.8\"/>\n      </g>\n     </g>\n     <g id=\"text_23\">\n      <!-- Roosevelt Island -->\n      <g transform=\"translate(287.673027 377.228562) rotate(-90) scale(0.1 -0.1)\">\n       <defs>\n        <path id=\"DejaVuSans-52\" d=\"M 2841 2188 \nQ 3044 2119 3236 1894 \nQ 3428 1669 3622 1275 \nL 4263 0 \nL 3584 0 \nL 2988 1197 \nQ 2756 1666 2539 1819 \nQ 2322 1972 1947 1972 \nL 1259 1972 \nL 1259 0 \nL 628 0 \nL 628 4666 \nL 2053 4666 \nQ 2853 4666 3247 4331 \nQ 3641 3997 3641 3322 \nQ 3641 2881 3436 2590 \nQ 3231 2300 2841 2188 \nz\nM 1259 4147 \nL 1259 2491 \nL 2053 2491 \nQ 2509 2491 2742 2702 \nQ 2975 2913 2975 3322 \nQ 2975 3731 2742 3939 \nQ 2509 4147 2053 4147 \nL 1259 4147 \nz\n\" transform=\"scale(0.015625)\"/>\n       </defs>\n       <use xlink:href=\"#DejaVuSans-52\"/>\n       <use xlink:href=\"#DejaVuSans-6f\" x=\"64.982422\"/>\n       <use xlink:href=\"#DejaVuSans-6f\" x=\"126.164062\"/>\n       <use xlink:href=\"#DejaVuSans-73\" x=\"187.345703\"/>\n       <use xlink:href=\"#DejaVuSans-65\" x=\"239.445312\"/>\n       <use xlink:href=\"#DejaVuSans-76\" x=\"300.96875\"/>\n       <use xlink:href=\"#DejaVuSans-65\" x=\"360.148438\"/>\n       <use xlink:href=\"#DejaVuSans-6c\" x=\"421.671875\"/>\n       <use xlink:href=\"#DejaVuSans-74\" x=\"449.455078\"/>\n       <use xlink:href=\"#DejaVuSans-20\" x=\"488.664062\"/>\n       <use xlink:href=\"#DejaVuSans-49\" x=\"520.451172\"/>\n       <use xlink:href=\"#DejaVuSans-73\" x=\"549.943359\"/>\n       <use xlink:href=\"#DejaVuSans-6c\" x=\"602.042969\"/>\n       <use xlink:href=\"#DejaVuSans-61\" x=\"629.826172\"/>\n       <use xlink:href=\"#DejaVuSans-6e\" x=\"691.105469\"/>\n       <use xlink:href=\"#DejaVuSans-64\" x=\"754.484375\"/>\n      </g>\n     </g>\n    </g>\n    <g id=\"xtick_24\">\n     <g id=\"line2d_24\">\n      <g>\n       <use xlink:href=\"#madd8fa17ba\" x=\"294.811656\" y=\"288.430125\" style=\"stroke: #000000; stroke-width: 0.8\"/>\n      </g>\n     </g>\n     <g id=\"text_24\">\n      <!-- Soho -->\n      <g transform=\"translate(297.571031 320.353562) rotate(-90) scale(0.1 -0.1)\">\n       <use xlink:href=\"#DejaVuSans-53\"/>\n       <use xlink:href=\"#DejaVuSans-6f\" x=\"63.476562\"/>\n       <use xlink:href=\"#DejaVuSans-68\" x=\"124.658203\"/>\n       <use xlink:href=\"#DejaVuSans-6f\" x=\"188.037109\"/>\n      </g>\n     </g>\n    </g>\n    <g id=\"xtick_25\">\n     <g id=\"line2d_25\">\n      <g>\n       <use xlink:href=\"#madd8fa17ba\" x=\"304.70966\" y=\"288.430125\" style=\"stroke: #000000; stroke-width: 0.8\"/>\n      </g>\n     </g>\n     <g id=\"text_25\">\n      <!-- Stuyvesant Town -->\n      <g transform=\"translate(307.469035 379.842625) rotate(-90) scale(0.1 -0.1)\">\n       <defs>\n        <path id=\"DejaVuSans-54\" d=\"M -19 4666 \nL 3928 4666 \nL 3928 4134 \nL 2272 4134 \nL 2272 0 \nL 1638 0 \nL 1638 4134 \nL -19 4134 \nL -19 4666 \nz\n\" transform=\"scale(0.015625)\"/>\n       </defs>\n       <use xlink:href=\"#DejaVuSans-53\"/>\n       <use xlink:href=\"#DejaVuSans-74\" x=\"63.476562\"/>\n       <use xlink:href=\"#DejaVuSans-75\" x=\"102.685547\"/>\n       <use xlink:href=\"#DejaVuSans-79\" x=\"166.064453\"/>\n       <use xlink:href=\"#DejaVuSans-76\" x=\"225.244141\"/>\n       <use xlink:href=\"#DejaVuSans-65\" x=\"284.423828\"/>\n       <use xlink:href=\"#DejaVuSans-73\" x=\"345.947266\"/>\n       <use xlink:href=\"#DejaVuSans-61\" x=\"398.046875\"/>\n       <use xlink:href=\"#DejaVuSans-6e\" x=\"459.326172\"/>\n       <use xlink:href=\"#DejaVuSans-74\" x=\"522.705078\"/>\n       <use xlink:href=\"#DejaVuSans-20\" x=\"561.914062\"/>\n       <use xlink:href=\"#DejaVuSans-54\" x=\"593.701172\"/>\n       <use xlink:href=\"#DejaVuSans-6f\" x=\"637.785156\"/>\n       <use xlink:href=\"#DejaVuSans-77\" x=\"698.966797\"/>\n       <use xlink:href=\"#DejaVuSans-6e\" x=\"780.753906\"/>\n      </g>\n     </g>\n    </g>\n    <g id=\"xtick_26\">\n     <g id=\"line2d_26\">\n      <g>\n       <use xlink:href=\"#madd8fa17ba\" x=\"314.607665\" y=\"288.430125\" style=\"stroke: #000000; stroke-width: 0.8\"/>\n      </g>\n     </g>\n     <g id=\"text_26\">\n      <!-- Sutton Place -->\n      <g transform=\"translate(317.36704 358.178562) rotate(-90) scale(0.1 -0.1)\">\n       <use xlink:href=\"#DejaVuSans-53\"/>\n       <use xlink:href=\"#DejaVuSans-75\" x=\"63.476562\"/>\n       <use xlink:href=\"#DejaVuSans-74\" x=\"126.855469\"/>\n       <use xlink:href=\"#DejaVuSans-74\" x=\"166.064453\"/>\n       <use xlink:href=\"#DejaVuSans-6f\" x=\"205.273438\"/>\n       <use xlink:href=\"#DejaVuSans-6e\" x=\"266.455078\"/>\n       <use xlink:href=\"#DejaVuSans-20\" x=\"329.833984\"/>\n       <use xlink:href=\"#DejaVuSans-50\" x=\"361.621094\"/>\n       <use xlink:href=\"#DejaVuSans-6c\" x=\"421.923828\"/>\n       <use xlink:href=\"#DejaVuSans-61\" x=\"449.707031\"/>\n       <use xlink:href=\"#DejaVuSans-63\" x=\"510.986328\"/>\n       <use xlink:href=\"#DejaVuSans-65\" x=\"565.966797\"/>\n      </g>\n     </g>\n    </g>\n    <g id=\"xtick_27\">\n     <g id=\"line2d_27\">\n      <g>\n       <use xlink:href=\"#madd8fa17ba\" x=\"324.505669\" y=\"288.430125\" style=\"stroke: #000000; stroke-width: 0.8\"/>\n      </g>\n     </g>\n     <g id=\"text_27\">\n      <!-- Tribeca -->\n      <g transform=\"translate(327.265044 331.080125) rotate(-90) scale(0.1 -0.1)\">\n       <defs>\n        <path id=\"DejaVuSans-62\" d=\"M 3116 1747 \nQ 3116 2381 2855 2742 \nQ 2594 3103 2138 3103 \nQ 1681 3103 1420 2742 \nQ 1159 2381 1159 1747 \nQ 1159 1113 1420 752 \nQ 1681 391 2138 391 \nQ 2594 391 2855 752 \nQ 3116 1113 3116 1747 \nz\nM 1159 2969 \nQ 1341 3281 1617 3432 \nQ 1894 3584 2278 3584 \nQ 2916 3584 3314 3078 \nQ 3713 2572 3713 1747 \nQ 3713 922 3314 415 \nQ 2916 -91 2278 -91 \nQ 1894 -91 1617 61 \nQ 1341 213 1159 525 \nL 1159 0 \nL 581 0 \nL 581 4863 \nL 1159 4863 \nL 1159 2969 \nz\n\" transform=\"scale(0.015625)\"/>\n       </defs>\n       <use xlink:href=\"#DejaVuSans-54\"/>\n       <use xlink:href=\"#DejaVuSans-72\" x=\"46.333984\"/>\n       <use xlink:href=\"#DejaVuSans-69\" x=\"87.447266\"/>\n       <use xlink:href=\"#DejaVuSans-62\" x=\"115.230469\"/>\n       <use xlink:href=\"#DejaVuSans-65\" x=\"178.707031\"/>\n       <use xlink:href=\"#DejaVuSans-63\" x=\"240.230469\"/>\n       <use xlink:href=\"#DejaVuSans-61\" x=\"295.210938\"/>\n      </g>\n     </g>\n    </g>\n    <g id=\"xtick_28\">\n     <g id=\"line2d_28\">\n      <g>\n       <use xlink:href=\"#madd8fa17ba\" x=\"334.403674\" y=\"288.430125\" style=\"stroke: #000000; stroke-width: 0.8\"/>\n      </g>\n     </g>\n     <g id=\"text_28\">\n      <!-- Tudor City -->\n      <g transform=\"translate(337.163049 345.719187) rotate(-90) scale(0.1 -0.1)\">\n       <use xlink:href=\"#DejaVuSans-54\"/>\n       <use xlink:href=\"#DejaVuSans-75\" x=\"45.958984\"/>\n       <use xlink:href=\"#DejaVuSans-64\" x=\"109.337891\"/>\n       <use xlink:href=\"#DejaVuSans-6f\" x=\"172.814453\"/>\n       <use xlink:href=\"#DejaVuSans-72\" x=\"233.996094\"/>\n       <use xlink:href=\"#DejaVuSans-20\" x=\"275.109375\"/>\n       <use xlink:href=\"#DejaVuSans-43\" x=\"306.896484\"/>\n       <use xlink:href=\"#DejaVuSans-69\" x=\"376.720703\"/>\n       <use xlink:href=\"#DejaVuSans-74\" x=\"404.503906\"/>\n       <use xlink:href=\"#DejaVuSans-79\" x=\"443.712891\"/>\n      </g>\n     </g>\n    </g>\n    <g id=\"xtick_29\">\n     <g id=\"line2d_29\">\n      <g>\n       <use xlink:href=\"#madd8fa17ba\" x=\"344.301678\" y=\"288.430125\" style=\"stroke: #000000; stroke-width: 0.8\"/>\n      </g>\n     </g>\n     <g id=\"text_29\">\n      <!-- Turtle Bay -->\n      <g transform=\"translate(347.061053 345.411375) rotate(-90) scale(0.1 -0.1)\">\n       <use xlink:href=\"#DejaVuSans-54\"/>\n       <use xlink:href=\"#DejaVuSans-75\" x=\"45.958984\"/>\n       <use xlink:href=\"#DejaVuSans-72\" x=\"109.337891\"/>\n       <use xlink:href=\"#DejaVuSans-74\" x=\"150.451172\"/>\n       <use xlink:href=\"#DejaVuSans-6c\" x=\"189.660156\"/>\n       <use xlink:href=\"#DejaVuSans-65\" x=\"217.443359\"/>\n       <use xlink:href=\"#DejaVuSans-20\" x=\"278.966797\"/>\n       <use xlink:href=\"#DejaVuSans-42\" x=\"310.753906\"/>\n       <use xlink:href=\"#DejaVuSans-61\" x=\"379.357422\"/>\n       <use xlink:href=\"#DejaVuSans-79\" x=\"440.636719\"/>\n      </g>\n     </g>\n    </g>\n    <g id=\"xtick_30\">\n     <g id=\"line2d_30\">\n      <g>\n       <use xlink:href=\"#madd8fa17ba\" x=\"354.199683\" y=\"288.430125\" style=\"stroke: #000000; stroke-width: 0.8\"/>\n      </g>\n     </g>\n     <g id=\"text_30\">\n      <!-- Upper East Side -->\n      <g transform=\"translate(356.959058 375.27075) rotate(-90) scale(0.1 -0.1)\">\n       <defs>\n        <path id=\"DejaVuSans-55\" d=\"M 556 4666 \nL 1191 4666 \nL 1191 1831 \nQ 1191 1081 1462 751 \nQ 1734 422 2344 422 \nQ 2950 422 3222 751 \nQ 3494 1081 3494 1831 \nL 3494 4666 \nL 4128 4666 \nL 4128 1753 \nQ 4128 841 3676 375 \nQ 3225 -91 2344 -91 \nQ 1459 -91 1007 375 \nQ 556 841 556 1753 \nL 556 4666 \nz\n\" transform=\"scale(0.015625)\"/>\n        <path id=\"DejaVuSans-70\" d=\"M 1159 525 \nL 1159 -1331 \nL 581 -1331 \nL 581 3500 \nL 1159 3500 \nL 1159 2969 \nQ 1341 3281 1617 3432 \nQ 1894 3584 2278 3584 \nQ 2916 3584 3314 3078 \nQ 3713 2572 3713 1747 \nQ 3713 922 3314 415 \nQ 2916 -91 2278 -91 \nQ 1894 -91 1617 61 \nQ 1341 213 1159 525 \nz\nM 3116 1747 \nQ 3116 2381 2855 2742 \nQ 2594 3103 2138 3103 \nQ 1681 3103 1420 2742 \nQ 1159 2381 1159 1747 \nQ 1159 1113 1420 752 \nQ 1681 391 2138 391 \nQ 2594 391 2855 752 \nQ 3116 1113 3116 1747 \nz\n\" transform=\"scale(0.015625)\"/>\n       </defs>\n       <use xlink:href=\"#DejaVuSans-55\"/>\n       <use xlink:href=\"#DejaVuSans-70\" x=\"73.193359\"/>\n       <use xlink:href=\"#DejaVuSans-70\" x=\"136.669922\"/>\n       <use xlink:href=\"#DejaVuSans-65\" x=\"200.146484\"/>\n       <use xlink:href=\"#DejaVuSans-72\" x=\"261.669922\"/>\n       <use xlink:href=\"#DejaVuSans-20\" x=\"302.783203\"/>\n       <use xlink:href=\"#DejaVuSans-45\" x=\"334.570312\"/>\n       <use xlink:href=\"#DejaVuSans-61\" x=\"397.753906\"/>\n       <use xlink:href=\"#DejaVuSans-73\" x=\"459.033203\"/>\n       <use xlink:href=\"#DejaVuSans-74\" x=\"511.132812\"/>\n       <use xlink:href=\"#DejaVuSans-20\" x=\"550.341797\"/>\n       <use xlink:href=\"#DejaVuSans-53\" x=\"582.128906\"/>\n       <use xlink:href=\"#DejaVuSans-69\" x=\"645.605469\"/>\n       <use xlink:href=\"#DejaVuSans-64\" x=\"673.388672\"/>\n       <use xlink:href=\"#DejaVuSans-65\" x=\"736.865234\"/>\n      </g>\n     </g>\n    </g>\n    <g id=\"xtick_31\">\n     <g id=\"line2d_31\">\n      <g>\n       <use xlink:href=\"#madd8fa17ba\" x=\"364.097687\" y=\"288.430125\" style=\"stroke: #000000; stroke-width: 0.8\"/>\n      </g>\n     </g>\n     <g id=\"text_31\">\n      <!-- Upper West Side -->\n      <g transform=\"translate(366.857062 378.277) rotate(-90) scale(0.1 -0.1)\">\n       <defs>\n        <path id=\"DejaVuSans-57\" d=\"M 213 4666 \nL 850 4666 \nL 1831 722 \nL 2809 4666 \nL 3519 4666 \nL 4500 722 \nL 5478 4666 \nL 6119 4666 \nL 4947 0 \nL 4153 0 \nL 3169 4050 \nL 2175 0 \nL 1381 0 \nL 213 4666 \nz\n\" transform=\"scale(0.015625)\"/>\n       </defs>\n       <use xlink:href=\"#DejaVuSans-55\"/>\n       <use xlink:href=\"#DejaVuSans-70\" x=\"73.193359\"/>\n       <use xlink:href=\"#DejaVuSans-70\" x=\"136.669922\"/>\n       <use xlink:href=\"#DejaVuSans-65\" x=\"200.146484\"/>\n       <use xlink:href=\"#DejaVuSans-72\" x=\"261.669922\"/>\n       <use xlink:href=\"#DejaVuSans-20\" x=\"302.783203\"/>\n       <use xlink:href=\"#DejaVuSans-57\" x=\"334.570312\"/>\n       <use xlink:href=\"#DejaVuSans-65\" x=\"427.572266\"/>\n       <use xlink:href=\"#DejaVuSans-73\" x=\"489.095703\"/>\n       <use xlink:href=\"#DejaVuSans-74\" x=\"541.195312\"/>\n       <use xlink:href=\"#DejaVuSans-20\" x=\"580.404297\"/>\n       <use xlink:href=\"#DejaVuSans-53\" x=\"612.191406\"/>\n       <use xlink:href=\"#DejaVuSans-69\" x=\"675.667969\"/>\n       <use xlink:href=\"#DejaVuSans-64\" x=\"703.451172\"/>\n       <use xlink:href=\"#DejaVuSans-65\" x=\"766.927734\"/>\n      </g>\n     </g>\n    </g>\n    <g id=\"xtick_32\">\n     <g id=\"line2d_32\">\n      <g>\n       <use xlink:href=\"#madd8fa17ba\" x=\"373.995692\" y=\"288.430125\" style=\"stroke: #000000; stroke-width: 0.8\"/>\n      </g>\n     </g>\n     <g id=\"text_32\">\n      <!-- West Village -->\n      <g transform=\"translate(376.755067 356.77075) rotate(-90) scale(0.1 -0.1)\">\n       <use xlink:href=\"#DejaVuSans-57\"/>\n       <use xlink:href=\"#DejaVuSans-65\" x=\"93.001953\"/>\n       <use xlink:href=\"#DejaVuSans-73\" x=\"154.525391\"/>\n       <use xlink:href=\"#DejaVuSans-74\" x=\"206.625\"/>\n       <use xlink:href=\"#DejaVuSans-20\" x=\"245.833984\"/>\n       <use xlink:href=\"#DejaVuSans-56\" x=\"277.621094\"/>\n       <use xlink:href=\"#DejaVuSans-69\" x=\"343.779297\"/>\n       <use xlink:href=\"#DejaVuSans-6c\" x=\"371.5625\"/>\n       <use xlink:href=\"#DejaVuSans-6c\" x=\"399.345703\"/>\n       <use xlink:href=\"#DejaVuSans-61\" x=\"427.128906\"/>\n       <use xlink:href=\"#DejaVuSans-67\" x=\"488.408203\"/>\n       <use xlink:href=\"#DejaVuSans-65\" x=\"551.884766\"/>\n      </g>\n     </g>\n    </g>\n    <g id=\"xtick_33\">\n     <g id=\"line2d_33\">\n      <g>\n       <use xlink:href=\"#madd8fa17ba\" x=\"383.893696\" y=\"288.430125\" style=\"stroke: #000000; stroke-width: 0.8\"/>\n      </g>\n     </g>\n     <g id=\"text_33\">\n      <!-- Yorkville -->\n      <g transform=\"translate(386.653071 336.6395) rotate(-90) scale(0.1 -0.1)\">\n       <defs>\n        <path id=\"DejaVuSans-59\" d=\"M -13 4666 \nL 666 4666 \nL 1959 2747 \nL 3244 4666 \nL 3922 4666 \nL 2272 2222 \nL 2272 0 \nL 1638 0 \nL 1638 2222 \nL -13 4666 \nz\n\" transform=\"scale(0.015625)\"/>\n       </defs>\n       <use xlink:href=\"#DejaVuSans-59\"/>\n       <use xlink:href=\"#DejaVuSans-6f\" x=\"47.833984\"/>\n       <use xlink:href=\"#DejaVuSans-72\" x=\"109.015625\"/>\n       <use xlink:href=\"#DejaVuSans-6b\" x=\"150.128906\"/>\n       <use xlink:href=\"#DejaVuSans-76\" x=\"208.039062\"/>\n       <use xlink:href=\"#DejaVuSans-69\" x=\"267.21875\"/>\n       <use xlink:href=\"#DejaVuSans-6c\" x=\"295.001953\"/>\n       <use xlink:href=\"#DejaVuSans-6c\" x=\"322.785156\"/>\n       <use xlink:href=\"#DejaVuSans-65\" x=\"350.568359\"/>\n      </g>\n     </g>\n    </g>\n    <g id=\"text_34\">\n     <!-- Neighbourhoods -->\n     <g transform=\"translate(184.539688 396.856687) scale(0.1 -0.1)\">\n      <use xlink:href=\"#DejaVuSans-4e\"/>\n      <use xlink:href=\"#DejaVuSans-65\" x=\"74.804688\"/>\n      <use xlink:href=\"#DejaVuSans-69\" x=\"136.328125\"/>\n      <use xlink:href=\"#DejaVuSans-67\" x=\"164.111328\"/>\n      <use xlink:href=\"#DejaVuSans-68\" x=\"227.587891\"/>\n      <use xlink:href=\"#DejaVuSans-62\" x=\"290.966797\"/>\n      <use xlink:href=\"#DejaVuSans-6f\" x=\"354.443359\"/>\n      <use xlink:href=\"#DejaVuSans-75\" x=\"415.625\"/>\n      <use xlink:href=\"#DejaVuSans-72\" x=\"479.003906\"/>\n      <use xlink:href=\"#DejaVuSans-68\" x=\"518.367188\"/>\n      <use xlink:href=\"#DejaVuSans-6f\" x=\"581.746094\"/>\n      <use xlink:href=\"#DejaVuSans-6f\" x=\"642.927734\"/>\n      <use xlink:href=\"#DejaVuSans-64\" x=\"704.109375\"/>\n      <use xlink:href=\"#DejaVuSans-73\" x=\"767.585938\"/>\n     </g>\n    </g>\n   </g>\n   <g id=\"matplotlib.axis_2\">\n    <g id=\"ytick_1\">\n     <g id=\"line2d_34\">\n      <defs>\n       <path id=\"m581fff86d6\" d=\"M 0 0 \nL -3.5 0 \n\" style=\"stroke: #000000; stroke-width: 0.8\"/>\n      </defs>\n      <g>\n       <use xlink:href=\"#m581fff86d6\" x=\"46.965625\" y=\"288.430125\" style=\"stroke: #000000; stroke-width: 0.8\"/>\n      </g>\n     </g>\n     <g id=\"text_35\">\n      <!-- 0 -->\n      <g transform=\"translate(33.603125 292.229344) scale(0.1 -0.1)\">\n       <defs>\n        <path id=\"DejaVuSans-30\" d=\"M 2034 4250 \nQ 1547 4250 1301 3770 \nQ 1056 3291 1056 2328 \nQ 1056 1369 1301 889 \nQ 1547 409 2034 409 \nQ 2525 409 2770 889 \nQ 3016 1369 3016 2328 \nQ 3016 3291 2770 3770 \nQ 2525 4250 2034 4250 \nz\nM 2034 4750 \nQ 2819 4750 3233 4129 \nQ 3647 3509 3647 2328 \nQ 3647 1150 3233 529 \nQ 2819 -91 2034 -91 \nQ 1250 -91 836 529 \nQ 422 1150 422 2328 \nQ 422 3509 836 4129 \nQ 1250 4750 2034 4750 \nz\n\" transform=\"scale(0.015625)\"/>\n       </defs>\n       <use xlink:href=\"#DejaVuSans-30\"/>\n      </g>\n     </g>\n    </g>\n    <g id=\"ytick_2\">\n     <g id=\"line2d_35\">\n      <g>\n       <use xlink:href=\"#m581fff86d6\" x=\"46.965625\" y=\"256.750125\" style=\"stroke: #000000; stroke-width: 0.8\"/>\n      </g>\n     </g>\n     <g id=\"text_36\">\n      <!-- 25 -->\n      <g transform=\"translate(27.240625 260.549344) scale(0.1 -0.1)\">\n       <defs>\n        <path id=\"DejaVuSans-32\" d=\"M 1228 531 \nL 3431 531 \nL 3431 0 \nL 469 0 \nL 469 531 \nQ 828 903 1448 1529 \nQ 2069 2156 2228 2338 \nQ 2531 2678 2651 2914 \nQ 2772 3150 2772 3378 \nQ 2772 3750 2511 3984 \nQ 2250 4219 1831 4219 \nQ 1534 4219 1204 4116 \nQ 875 4013 500 3803 \nL 500 4441 \nQ 881 4594 1212 4672 \nQ 1544 4750 1819 4750 \nQ 2544 4750 2975 4387 \nQ 3406 4025 3406 3419 \nQ 3406 3131 3298 2873 \nQ 3191 2616 2906 2266 \nQ 2828 2175 2409 1742 \nQ 1991 1309 1228 531 \nz\n\" transform=\"scale(0.015625)\"/>\n        <path id=\"DejaVuSans-35\" d=\"M 691 4666 \nL 3169 4666 \nL 3169 4134 \nL 1269 4134 \nL 1269 2991 \nQ 1406 3038 1543 3061 \nQ 1681 3084 1819 3084 \nQ 2600 3084 3056 2656 \nQ 3513 2228 3513 1497 \nQ 3513 744 3044 326 \nQ 2575 -91 1722 -91 \nQ 1428 -91 1123 -41 \nQ 819 9 494 109 \nL 494 744 \nQ 775 591 1075 516 \nQ 1375 441 1709 441 \nQ 2250 441 2565 725 \nQ 2881 1009 2881 1497 \nQ 2881 1984 2565 2268 \nQ 2250 2553 1709 2553 \nQ 1456 2553 1204 2497 \nQ 953 2441 691 2322 \nL 691 4666 \nz\n\" transform=\"scale(0.015625)\"/>\n       </defs>\n       <use xlink:href=\"#DejaVuSans-32\"/>\n       <use xlink:href=\"#DejaVuSans-35\" x=\"63.623047\"/>\n      </g>\n     </g>\n    </g>\n    <g id=\"ytick_3\">\n     <g id=\"line2d_36\">\n      <g>\n       <use xlink:href=\"#m581fff86d6\" x=\"46.965625\" y=\"225.070125\" style=\"stroke: #000000; stroke-width: 0.8\"/>\n      </g>\n     </g>\n     <g id=\"text_37\">\n      <!-- 50 -->\n      <g transform=\"translate(27.240625 228.869344) scale(0.1 -0.1)\">\n       <use xlink:href=\"#DejaVuSans-35\"/>\n       <use xlink:href=\"#DejaVuSans-30\" x=\"63.623047\"/>\n      </g>\n     </g>\n    </g>\n    <g id=\"ytick_4\">\n     <g id=\"line2d_37\">\n      <g>\n       <use xlink:href=\"#m581fff86d6\" x=\"46.965625\" y=\"193.390125\" style=\"stroke: #000000; stroke-width: 0.8\"/>\n      </g>\n     </g>\n     <g id=\"text_38\">\n      <!-- 75 -->\n      <g transform=\"translate(27.240625 197.189344) scale(0.1 -0.1)\">\n       <defs>\n        <path id=\"DejaVuSans-37\" d=\"M 525 4666 \nL 3525 4666 \nL 3525 4397 \nL 1831 0 \nL 1172 0 \nL 2766 4134 \nL 525 4134 \nL 525 4666 \nz\n\" transform=\"scale(0.015625)\"/>\n       </defs>\n       <use xlink:href=\"#DejaVuSans-37\"/>\n       <use xlink:href=\"#DejaVuSans-35\" x=\"63.623047\"/>\n      </g>\n     </g>\n    </g>\n    <g id=\"ytick_5\">\n     <g id=\"line2d_38\">\n      <g>\n       <use xlink:href=\"#m581fff86d6\" x=\"46.965625\" y=\"161.710125\" style=\"stroke: #000000; stroke-width: 0.8\"/>\n      </g>\n     </g>\n     <g id=\"text_39\">\n      <!-- 100 -->\n      <g transform=\"translate(20.878125 165.509344) scale(0.1 -0.1)\">\n       <defs>\n        <path id=\"DejaVuSans-31\" d=\"M 794 531 \nL 1825 531 \nL 1825 4091 \nL 703 3866 \nL 703 4441 \nL 1819 4666 \nL 2450 4666 \nL 2450 531 \nL 3481 531 \nL 3481 0 \nL 794 0 \nL 794 531 \nz\n\" transform=\"scale(0.015625)\"/>\n       </defs>\n       <use xlink:href=\"#DejaVuSans-31\"/>\n       <use xlink:href=\"#DejaVuSans-30\" x=\"63.623047\"/>\n       <use xlink:href=\"#DejaVuSans-30\" x=\"127.246094\"/>\n      </g>\n     </g>\n    </g>\n    <g id=\"ytick_6\">\n     <g id=\"line2d_39\">\n      <g>\n       <use xlink:href=\"#m581fff86d6\" x=\"46.965625\" y=\"130.030125\" style=\"stroke: #000000; stroke-width: 0.8\"/>\n      </g>\n     </g>\n     <g id=\"text_40\">\n      <!-- 125 -->\n      <g transform=\"translate(20.878125 133.829344) scale(0.1 -0.1)\">\n       <use xlink:href=\"#DejaVuSans-31\"/>\n       <use xlink:href=\"#DejaVuSans-32\" x=\"63.623047\"/>\n       <use xlink:href=\"#DejaVuSans-35\" x=\"127.246094\"/>\n      </g>\n     </g>\n    </g>\n    <g id=\"ytick_7\">\n     <g id=\"line2d_40\">\n      <g>\n       <use xlink:href=\"#m581fff86d6\" x=\"46.965625\" y=\"98.350125\" style=\"stroke: #000000; stroke-width: 0.8\"/>\n      </g>\n     </g>\n     <g id=\"text_41\">\n      <!-- 150 -->\n      <g transform=\"translate(20.878125 102.149344) scale(0.1 -0.1)\">\n       <use xlink:href=\"#DejaVuSans-31\"/>\n       <use xlink:href=\"#DejaVuSans-35\" x=\"63.623047\"/>\n       <use xlink:href=\"#DejaVuSans-30\" x=\"127.246094\"/>\n      </g>\n     </g>\n    </g>\n    <g id=\"ytick_8\">\n     <g id=\"line2d_41\">\n      <g>\n       <use xlink:href=\"#m581fff86d6\" x=\"46.965625\" y=\"66.670125\" style=\"stroke: #000000; stroke-width: 0.8\"/>\n      </g>\n     </g>\n     <g id=\"text_42\">\n      <!-- 175 -->\n      <g transform=\"translate(20.878125 70.469344) scale(0.1 -0.1)\">\n       <use xlink:href=\"#DejaVuSans-31\"/>\n       <use xlink:href=\"#DejaVuSans-37\" x=\"63.623047\"/>\n       <use xlink:href=\"#DejaVuSans-35\" x=\"127.246094\"/>\n      </g>\n     </g>\n    </g>\n    <g id=\"ytick_9\">\n     <g id=\"line2d_42\">\n      <g>\n       <use xlink:href=\"#m581fff86d6\" x=\"46.965625\" y=\"34.990125\" style=\"stroke: #000000; stroke-width: 0.8\"/>\n      </g>\n     </g>\n     <g id=\"text_43\">\n      <!-- 200 -->\n      <g transform=\"translate(20.878125 38.789344) scale(0.1 -0.1)\">\n       <use xlink:href=\"#DejaVuSans-32\"/>\n       <use xlink:href=\"#DejaVuSans-30\" x=\"63.623047\"/>\n       <use xlink:href=\"#DejaVuSans-30\" x=\"127.246094\"/>\n      </g>\n     </g>\n    </g>\n    <g id=\"text_44\">\n     <!-- Number of Businesses -->\n     <g transform=\"translate(14.798438 211.186625) rotate(-90) scale(0.1 -0.1)\">\n      <defs>\n       <path id=\"DejaVuSans-66\" d=\"M 2375 4863 \nL 2375 4384 \nL 1825 4384 \nQ 1516 4384 1395 4259 \nQ 1275 4134 1275 3809 \nL 1275 3500 \nL 2222 3500 \nL 2222 3053 \nL 1275 3053 \nL 1275 0 \nL 697 0 \nL 697 3053 \nL 147 3053 \nL 147 3500 \nL 697 3500 \nL 697 3744 \nQ 697 4328 969 4595 \nQ 1241 4863 1831 4863 \nL 2375 4863 \nz\n\" transform=\"scale(0.015625)\"/>\n      </defs>\n      <use xlink:href=\"#DejaVuSans-4e\"/>\n      <use xlink:href=\"#DejaVuSans-75\" x=\"74.804688\"/>\n      <use xlink:href=\"#DejaVuSans-6d\" x=\"138.183594\"/>\n      <use xlink:href=\"#DejaVuSans-62\" x=\"235.595703\"/>\n      <use xlink:href=\"#DejaVuSans-65\" x=\"299.072266\"/>\n      <use xlink:href=\"#DejaVuSans-72\" x=\"360.595703\"/>\n      <use xlink:href=\"#DejaVuSans-20\" x=\"401.708984\"/>\n      <use xlink:href=\"#DejaVuSans-6f\" x=\"433.496094\"/>\n      <use xlink:href=\"#DejaVuSans-66\" x=\"494.677734\"/>\n      <use xlink:href=\"#DejaVuSans-20\" x=\"529.882812\"/>\n      <use xlink:href=\"#DejaVuSans-42\" x=\"561.669922\"/>\n      <use xlink:href=\"#DejaVuSans-75\" x=\"630.273438\"/>\n      <use xlink:href=\"#DejaVuSans-73\" x=\"693.652344\"/>\n      <use xlink:href=\"#DejaVuSans-69\" x=\"745.751953\"/>\n      <use xlink:href=\"#DejaVuSans-6e\" x=\"773.535156\"/>\n      <use xlink:href=\"#DejaVuSans-65\" x=\"836.914062\"/>\n      <use xlink:href=\"#DejaVuSans-73\" x=\"898.4375\"/>\n      <use xlink:href=\"#DejaVuSans-73\" x=\"950.537109\"/>\n      <use xlink:href=\"#DejaVuSans-65\" x=\"1002.636719\"/>\n      <use xlink:href=\"#DejaVuSans-73\" x=\"1064.160156\"/>\n     </g>\n    </g>\n   </g>\n   <g id=\"patch_36\">\n    <path d=\"M 46.965625 288.430125 \nL 46.965625 22.318125 \n\" style=\"fill: none; stroke: #000000; stroke-width: 0.8; stroke-linejoin: miter; stroke-linecap: square\"/>\n   </g>\n   <g id=\"patch_37\">\n    <path d=\"M 404.085625 288.430125 \nL 404.085625 22.318125 \n\" style=\"fill: none; stroke: #000000; stroke-width: 0.8; stroke-linejoin: miter; stroke-linecap: square\"/>\n   </g>\n   <g id=\"patch_38\">\n    <path d=\"M 46.965625 288.430125 \nL 404.085625 288.430125 \n\" style=\"fill: none; stroke: #000000; stroke-width: 0.8; stroke-linejoin: miter; stroke-linecap: square\"/>\n   </g>\n   <g id=\"patch_39\">\n    <path d=\"M 46.965625 22.318125 \nL 404.085625 22.318125 \n\" style=\"fill: none; stroke: #000000; stroke-width: 0.8; stroke-linejoin: miter; stroke-linecap: square\"/>\n   </g>\n   <g id=\"text_45\">\n    <!-- Businesses per Neighbourhood from Yelp -->\n    <g transform=\"translate(102.601563 16.318125) scale(0.12 -0.12)\">\n     <use xlink:href=\"#DejaVuSans-42\"/>\n     <use xlink:href=\"#DejaVuSans-75\" x=\"68.603516\"/>\n     <use xlink:href=\"#DejaVuSans-73\" x=\"131.982422\"/>\n     <use xlink:href=\"#DejaVuSans-69\" x=\"184.082031\"/>\n     <use xlink:href=\"#DejaVuSans-6e\" x=\"211.865234\"/>\n     <use xlink:href=\"#DejaVuSans-65\" x=\"275.244141\"/>\n     <use xlink:href=\"#DejaVuSans-73\" x=\"336.767578\"/>\n     <use xlink:href=\"#DejaVuSans-73\" x=\"388.867188\"/>\n     <use xlink:href=\"#DejaVuSans-65\" x=\"440.966797\"/>\n     <use xlink:href=\"#DejaVuSans-73\" x=\"502.490234\"/>\n     <use xlink:href=\"#DejaVuSans-20\" x=\"554.589844\"/>\n     <use xlink:href=\"#DejaVuSans-70\" x=\"586.376953\"/>\n     <use xlink:href=\"#DejaVuSans-65\" x=\"649.853516\"/>\n     <use xlink:href=\"#DejaVuSans-72\" x=\"711.376953\"/>\n     <use xlink:href=\"#DejaVuSans-20\" x=\"752.490234\"/>\n     <use xlink:href=\"#DejaVuSans-4e\" x=\"784.277344\"/>\n     <use xlink:href=\"#DejaVuSans-65\" x=\"859.082031\"/>\n     <use xlink:href=\"#DejaVuSans-69\" x=\"920.605469\"/>\n     <use xlink:href=\"#DejaVuSans-67\" x=\"948.388672\"/>\n     <use xlink:href=\"#DejaVuSans-68\" x=\"1011.865234\"/>\n     <use xlink:href=\"#DejaVuSans-62\" x=\"1075.244141\"/>\n     <use xlink:href=\"#DejaVuSans-6f\" x=\"1138.720703\"/>\n     <use xlink:href=\"#DejaVuSans-75\" x=\"1199.902344\"/>\n     <use xlink:href=\"#DejaVuSans-72\" x=\"1263.28125\"/>\n     <use xlink:href=\"#DejaVuSans-68\" x=\"1302.644531\"/>\n     <use xlink:href=\"#DejaVuSans-6f\" x=\"1366.023438\"/>\n     <use xlink:href=\"#DejaVuSans-6f\" x=\"1427.205078\"/>\n     <use xlink:href=\"#DejaVuSans-64\" x=\"1488.386719\"/>\n     <use xlink:href=\"#DejaVuSans-20\" x=\"1551.863281\"/>\n     <use xlink:href=\"#DejaVuSans-66\" x=\"1583.650391\"/>\n     <use xlink:href=\"#DejaVuSans-72\" x=\"1618.855469\"/>\n     <use xlink:href=\"#DejaVuSans-6f\" x=\"1657.71875\"/>\n     <use xlink:href=\"#DejaVuSans-6d\" x=\"1718.900391\"/>\n     <use xlink:href=\"#DejaVuSans-20\" x=\"1816.3125\"/>\n     <use xlink:href=\"#DejaVuSans-59\" x=\"1848.099609\"/>\n     <use xlink:href=\"#DejaVuSans-65\" x=\"1895.933594\"/>\n     <use xlink:href=\"#DejaVuSans-6c\" x=\"1957.457031\"/>\n     <use xlink:href=\"#DejaVuSans-70\" x=\"1985.240234\"/>\n    </g>\n   </g>\n  </g>\n </g>\n <defs>\n  <clipPath id=\"p73608b0fbd\">\n   <rect x=\"46.965625\" y=\"22.318125\" width=\"357.12\" height=\"266.112\"/>\n  </clipPath>\n </defs>\n</svg>\n",
            "application/pdf": "[encoded data removed]"
          },
          "metadata": {}
        }
      ]
    },
    {
      "cell_type": "code",
      "source": [
        "import csv\n",
        "from google.colab import files\n",
        "\n",
        "def download_csv(fname, df):\n",
        "  csvdata = df.to_csv()\n",
        "  with open(fname, 'w') as f:\n",
        "    f.write(csvdata)\n",
        "  !cat fname\n",
        "  files.download(fname)\n",
        "\n",
        "download_csv('data_from_yelp.csv', yelp_data_df)\n",
        "download_csv('neighbourhood_scores_from_yelp.csv', scores_by_yelp_df)"
      ],
      "metadata": {
        "colab": {
          "base_uri": "https://localhost:8080/",
          "height": 54
        },
        "id": "DyWfxNq1GZps",
        "outputId": "c1b604cf-1193-44f2-a5a1-7050a265c68f"
      },
      "execution_count": 24,
      "outputs": [
        {
          "output_type": "stream",
          "name": "stdout",
          "text": [
            "cat: fname: No such file or directory\n"
          ]
        },
        {
          "output_type": "display_data",
          "data": {
            "text/plain": [
              "<IPython.core.display.Javascript object>"
            ],
            "application/javascript": [
              "\n",
              "    async function download(id, filename, size) {\n",
              "      if (!google.colab.kernel.accessAllowed) {\n",
              "        return;\n",
              "      }\n",
              "      const div = document.createElement('div');\n",
              "      const label = document.createElement('label');\n",
              "      label.textContent = `Downloading \"${filename}\": `;\n",
              "      div.appendChild(label);\n",
              "      const progress = document.createElement('progress');\n",
              "      progress.max = size;\n",
              "      div.appendChild(progress);\n",
              "      document.body.appendChild(div);\n",
              "\n",
              "      const buffers = [];\n",
              "      let downloaded = 0;\n",
              "\n",
              "      const channel = await google.colab.kernel.comms.open(id);\n",
              "      // Send a message to notify the kernel that we're ready.\n",
              "      channel.send({})\n",
              "\n",
              "      for await (const message of channel.messages) {\n",
              "        // Send a message to notify the kernel that we're ready.\n",
              "        channel.send({})\n",
              "        if (message.buffers) {\n",
              "          for (const buffer of message.buffers) {\n",
              "            buffers.push(buffer);\n",
              "            downloaded += buffer.byteLength;\n",
              "            progress.value = downloaded;\n",
              "          }\n",
              "        }\n",
              "      }\n",
              "      const blob = new Blob(buffers, {type: 'application/binary'});\n",
              "      const a = document.createElement('a');\n",
              "      a.href = window.URL.createObjectURL(blob);\n",
              "      a.download = filename;\n",
              "      div.appendChild(a);\n",
              "      a.click();\n",
              "      div.remove();\n",
              "    }\n",
              "  "
            ]
          },
          "metadata": {}
        },
        {
          "output_type": "display_data",
          "data": {
            "text/plain": [
              "<IPython.core.display.Javascript object>"
            ],
            "application/javascript": [
              "download(\"download_d6ca673a-7691-4a01-b965-4cf747b729cc\", \"data_from_yelp.csv\", 175953)"
            ]
          },
          "metadata": {}
        },
        {
          "output_type": "stream",
          "name": "stdout",
          "text": [
            "cat: fname: No such file or directory\n"
          ]
        },
        {
          "output_type": "display_data",
          "data": {
            "text/plain": [
              "<IPython.core.display.Javascript object>"
            ],
            "application/javascript": [
              "\n",
              "    async function download(id, filename, size) {\n",
              "      if (!google.colab.kernel.accessAllowed) {\n",
              "        return;\n",
              "      }\n",
              "      const div = document.createElement('div');\n",
              "      const label = document.createElement('label');\n",
              "      label.textContent = `Downloading \"${filename}\": `;\n",
              "      div.appendChild(label);\n",
              "      const progress = document.createElement('progress');\n",
              "      progress.max = size;\n",
              "      div.appendChild(progress);\n",
              "      document.body.appendChild(div);\n",
              "\n",
              "      const buffers = [];\n",
              "      let downloaded = 0;\n",
              "\n",
              "      const channel = await google.colab.kernel.comms.open(id);\n",
              "      // Send a message to notify the kernel that we're ready.\n",
              "      channel.send({})\n",
              "\n",
              "      for await (const message of channel.messages) {\n",
              "        // Send a message to notify the kernel that we're ready.\n",
              "        channel.send({})\n",
              "        if (message.buffers) {\n",
              "          for (const buffer of message.buffers) {\n",
              "            buffers.push(buffer);\n",
              "            downloaded += buffer.byteLength;\n",
              "            progress.value = downloaded;\n",
              "          }\n",
              "        }\n",
              "      }\n",
              "      const blob = new Blob(buffers, {type: 'application/binary'});\n",
              "      const a = document.createElement('a');\n",
              "      a.href = window.URL.createObjectURL(blob);\n",
              "      a.download = filename;\n",
              "      div.appendChild(a);\n",
              "      a.click();\n",
              "      div.remove();\n",
              "    }\n",
              "  "
            ]
          },
          "metadata": {}
        },
        {
          "output_type": "display_data",
          "data": {
            "text/plain": [
              "<IPython.core.display.Javascript object>"
            ],
            "application/javascript": [
              "download(\"download_b1f8d551-a550-41bc-b543-7c2a4163758f\", \"neighbourhood_scores_from_yelp.csv\", 825)"
            ]
          },
          "metadata": {}
        }
      ]
    }
  ]
}