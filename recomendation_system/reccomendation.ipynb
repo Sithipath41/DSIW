{
 "cells": [
  {
   "cell_type": "code",
   "execution_count": 17,
   "id": "f57e87a3",
   "metadata": {
    "hide_input": false
   },
   "outputs": [
    {
     "name": "stdout",
     "output_type": "stream",
     "text": [
      "Input you age --> 94\n"
     ]
    }
   ],
   "source": [
    "reccomendation().sort_values(by='output').to_csv('overall.csv')"
   ]
  },
  {
   "cell_type": "code",
   "execution_count": 13,
   "id": "08038747",
   "metadata": {
    "hide_input": true
   },
   "outputs": [],
   "source": [
    "import urllib.request\n",
    "import json\n",
    "import math\n",
    "import numpy as np\n",
    "import pandas as pd\n",
    "import folium\n",
    "import branca.colormap as cm\n",
    "url = 'https://data.cityofnewyork.us/resource/xyye-rtrs.json'\n",
    "# Fetch the data from the URL\n",
    "with urllib.request.urlopen(url) as url:\n",
    "    data = json.loads(url.read().decode())\n",
    "coordinates_to_neighborhood = {}\n",
    "for neighborhood in data:\n",
    "    if neighborhood['borough'] == \"Manhattan\":\n",
    "        lat = neighborhood['the_geom']['coordinates'][1]\n",
    "        lon = neighborhood['the_geom']['coordinates'][0]\n",
    "        coordinates_to_neighborhood[tuple([lat, lon])] = neighborhood['name']   \n",
    "\n",
    "data = coordinates_to_neighborhood\n",
    "# Create a list of dictionaries with longitude, latitude, and neighborhood\n",
    "formatted_data = [{'longitude': k[0], 'latitude': k[1], 'neighborhood': v} for k, v in data.items()]\n",
    "# Create a DataFrame\n",
    "df = pd.DataFrame(formatted_data)"
   ]
  },
  {
   "cell_type": "code",
   "execution_count": 14,
   "id": "330db448",
   "metadata": {
    "hide_input": true
   },
   "outputs": [],
   "source": [
    "df_data = pd.read_csv('data_score.csv')\n",
    "final_df = pd.merge(df, df_data, how='left', on='neighborhood')\n",
    "final_df = final_df[final_df[['streeteasy_score', 'mta_score']].notnull().all(axis=1)]\n",
    "weight_df = pd.read_csv('data_weight.csv')"
   ]
  },
  {
   "cell_type": "code",
   "execution_count": 15,
   "id": "7f3fa8b6",
   "metadata": {
    "hide_input": true
   },
   "outputs": [],
   "source": [
    "def get_weight(age):\n",
    "    global weight_df, q,c,o\n",
    "    row = weight_df[weight_df['Age'] == age]\n",
    "    q = row['q'].values[0]\n",
    "    c = row['c'].values[0]\n",
    "    o = row['o'].values[0]\n",
    "def calculate_score(tw,dd,gr,se,mt,q,c,o):\n",
    "    quality_array = np.array([tw, dd, gr])\n",
    "    quality_non_nan = quality_array[~np.isnan(quality_array)]\n",
    "    average_quality = np.mean(quality_non_nan)\n",
    "    \n",
    "    result = average_quality*q + mt*c + se*o\n",
    "    result = round(result, 1)\n",
    "    return result"
   ]
  },
  {
   "cell_type": "code",
   "execution_count": 11,
   "id": "031a9131",
   "metadata": {
    "hide_input": true
   },
   "outputs": [],
   "source": [
    "def reccomendation():\n",
    "    age = int(input(\"Input you age --> \"))\n",
    "    get_weight(age)\n",
    "    final_df['output'] = final_df.apply(lambda row: calculate_score(row['twitter_score'], row['door_dash_score'],\n",
    "                                                                   row['grocery_score'],row['streeteasy_score'],\n",
    "                                                                   row['mta_score'],q,c,o), axis=1)\n",
    "    sorted_df = final_df.sort_values('output', ascending=False)\n",
    "    #top_3_rows = sorted_df.head(10)\n",
    "    top_3_rows = sorted_df.copy()\n",
    "    # Define the list of neighborhoods and their corresponding numbers\n",
    "    neighborhoods = list(top_3_rows['neighborhood'])\n",
    "    neighborhood_numbers = list(top_3_rows['output']) \n",
    "    corodinate_list = list(top_3_rows[['longitude', 'latitude']].to_records(index=False))\n",
    "    # Define the latitude and longitude of Manhattan's center\n",
    "    manhattan_lat, manhattan_lon = 40.7831, -73.9712\n",
    "    # Create a map of Manhattan with CartoDB's Positron tiles\n",
    "    #Without color\n",
    "    m = folium.Map(location=[manhattan_lat, manhattan_lon], zoom_start=11, tiles='CartoDB Positron')\n",
    "    #with color\n",
    "    #m = folium.Map(location=[manhattan_lat, manhattan_lon], zoom_start=13)\n",
    "    # Create a colormap based on the range of neighborhood_numbers\n",
    "    color_scale = cm.LinearColormap(\n",
    "    colors=[\"red\", \"yellow\", \"green\", \"blue\"],\n",
    "    vmin=min(neighborhood_numbers),\n",
    "    vmax=max(neighborhood_numbers),\n",
    "    caption=\"Neighborhood Numbers\"\n",
    "    )\n",
    "    for neighborhood, number, (lat, lon) in zip(neighborhoods, neighborhood_numbers, corodinate_list):\n",
    "        folium.CircleMarker(\n",
    "            location=[lat, lon],\n",
    "            radius=5,\n",
    "            color=color_scale(number),\n",
    "            fill=True,\n",
    "            fill_opacity=0.7\n",
    "        ).add_to(m)\n",
    "        folium.map.Marker(\n",
    "            [lat, lon],\n",
    "            icon=folium.DivIcon(icon_size=(150,36), icon_anchor=(0,0),\n",
    "            html='<div style=\"font-size: 8.5pt; color: black;\">{0}: {1}</div>'.format(neighborhood, number))\n",
    "        ).add_to(m)\n",
    "        color_scale.add_to(m)\n",
    "    name = \"manhattan_age\"+str(age)+\".html\"\n",
    "    m.save(name)\n",
    "    return final_df"
   ]
  }
 ],
 "metadata": {
  "hide_input": false,
  "kernelspec": {
   "display_name": "Python 3 (ipykernel)",
   "language": "python",
   "name": "python3"
  },
  "language_info": {
   "codemirror_mode": {
    "name": "ipython",
    "version": 3
   },
   "file_extension": ".py",
   "mimetype": "text/x-python",
   "name": "python",
   "nbconvert_exporter": "python",
   "pygments_lexer": "ipython3",
   "version": "3.9.13"
  }
 },
 "nbformat": 4,
 "nbformat_minor": 5
}
